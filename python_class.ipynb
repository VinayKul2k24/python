{
  "nbformat": 4,
  "nbformat_minor": 0,
  "metadata": {
    "colab": {
      "provenance": [],
      "toc_visible": true,
      "mount_file_id": "https://gist.github.com/virositebuddy/030baa30d81d4e1c403e24e7c9f7c2cc#file-python_class-ipynb",
      "authorship_tag": "ABX9TyPkZGf8MiOFp/k87lFc9A3e",
      "include_colab_link": true
    },
    "kernelspec": {
      "name": "python3",
      "display_name": "Python 3"
    },
    "language_info": {
      "name": "python"
    }
  },
  "cells": [
    {
      "cell_type": "markdown",
      "metadata": {
        "id": "view-in-github",
        "colab_type": "text"
      },
      "source": [
        "<a href=\"https://colab.research.google.com/github/virositebuddy/python/blob/main/python_class.ipynb\" target=\"_parent\"><img src=\"https://colab.research.google.com/assets/colab-badge.svg\" alt=\"Open In Colab\"/></a>"
      ]
    },
    {
      "cell_type": "markdown",
      "source": [
        "#PYTHON BASIC\n"
      ],
      "metadata": {
        "id": "OXFtf841rCgO"
      }
    },
    {
      "cell_type": "code",
      "source": [
        "#print function\n",
        "print(\"resume :\")\n",
        "print(\"name : vinay santosh kulkarni\")\n",
        "print(\"address : \\t plot no 45,tornagadnagar,n2,cidco,aurangabad\")\n",
        "print(\"education : btech \")\n",
        "print(\" contact : 8767XXXXXX\")\n",
        "print(\" age : 20 \")\n"
      ],
      "metadata": {
        "id": "T6hNFqMQrH6a"
      },
      "execution_count": null,
      "outputs": []
    },
    {
      "cell_type": "code",
      "source": [
        "# arthimetic opertion\n",
        "a = int(input(\"enter number A: \"))\n",
        "b = int(input(\"enter number B: \"))\n",
        "add = a + b\n",
        "sub = a - b\n",
        "multi = a * b\n",
        "division  = a/b\n",
        "floordivision = a // b\n",
        "modulus = a % b\n",
        "expo = a ** b\n",
        "print(\"addition :\",add)\n",
        "print(\"subtraction :\",sub)\n",
        "print(\"multiplication :\",multi)\n",
        "print(\"division :\",division)\n",
        "print(\"floordivision:\",floordivision)\n",
        "\n"
      ],
      "metadata": {
        "colab": {
          "base_uri": "https://localhost:8080/"
        },
        "id": "FbZ15c9wrcSK",
        "outputId": "af0d8d48-a281-4d9c-fc62-7dec4ecbc3e8"
      },
      "execution_count": null,
      "outputs": [
        {
          "output_type": "stream",
          "name": "stdout",
          "text": [
            "enter number A: 12\n",
            "enter number B: 45\n",
            "addition : 57\n",
            "subtraction : -33\n",
            "multiplication : 540\n",
            "division : 0.26666666666666666\n",
            "floordivision: 0\n"
          ]
        }
      ]
    },
    {
      "cell_type": "code",
      "source": [
        "#centimeter to meter\n",
        "cm = int(input(\"enter value :\"))\n",
        "m = cm/1000\n",
        "print(\"converion in meter :\",m)\n"
      ],
      "metadata": {
        "id": "m_i-YBCyr_Dh"
      },
      "execution_count": null,
      "outputs": []
    },
    {
      "cell_type": "code",
      "source": [
        "#sum of three number\n",
        "d1=int(input('enter number : '))\n",
        "s= d1%10\n",
        "d1=d1//10\n",
        "s+=d1%10\n",
        "d1=d1//10\n",
        "s+=d1%10\n",
        "print(\"addition of digit : \",s)\n"
      ],
      "metadata": {
        "id": "hCpWChN1sF1f"
      },
      "execution_count": null,
      "outputs": []
    },
    {
      "cell_type": "code",
      "source": [
        "#swapping of 2 numbers\n",
        "a=int(input(\"Enter Number 1 :\"))\n",
        "b=int(input(\"Enter number 2 :\"))\n",
        "print(\"Before Swapping\")\n",
        "print(\"a=\",a)\n",
        "print(\"b=\",b)\n",
        "c=a\n",
        "a=b\n",
        "b=c\n",
        "print(\"After Swapping\")\n",
        "print(\"a=\",a)\n",
        "print(\"b=\",b)"
      ],
      "metadata": {
        "id": "mgOcQ2RWqCr4"
      },
      "execution_count": null,
      "outputs": []
    },
    {
      "cell_type": "code",
      "source": [
        "#bitwise operators\n",
        "a = 2\n",
        "b = 1\n",
        "c = 5\n",
        "d = 6\n",
        "e = 7\n",
        "bit = a>>b<<c|d&e\n",
        "print(bit)"
      ],
      "metadata": {
        "id": "6ylpn8YFsSVg"
      },
      "execution_count": null,
      "outputs": []
    },
    {
      "cell_type": "markdown",
      "source": [
        "#list"
      ],
      "metadata": {
        "id": "KDpRaIIU5M6V"
      }
    },
    {
      "cell_type": "code",
      "source": [
        "#list project\n",
        "product = ['mobile','tv','monitor','mouse','key']\n",
        "price = [1200,2000,3000,4000,4000]\n",
        "qty  = [1,2,4,1,3]\n",
        "serial = [1,2,3,4,5]\n",
        "amt = [price[0]*qty[0],price[1]*qty[1],price[2]*qty[2],price[3]*qty[3],price[4]*qty[4]]\n",
        "print(\"\\t\",\"~GADA ELECTRONICS~\")\n",
        "print(\"---------------------------------------\")\n",
        "print(\"No:\",\"\\t product\",\"\\t\",\"price\",\"\\t\",\"qty\",\"\\t\",\"amt\")\n",
        "print(serial[0],\":\",\"\\t\",product[0],\"\\t\",price[0],\"\\t\",qty[0],\"\\t\",amt[0])\n",
        "print(serial[1],\":\",\"\\t\",product[1],\"\\t\\t\",price[1],\"\\t\",qty[1],\"\\t\",amt[1])\n",
        "print(serial[2],\":\",\"\\t\",product[2],\"\\t\",price[2],\"\\t\",qty[2],\"\\t\",amt[2])\n",
        "print(serial[3],\":\",\"\\t\",product[3],\"\\t\\t\",price[3],\"\\t\",qty[3],\"\\t\",amt[3])\n",
        "print(serial[4],\":\",\"\\t\",product[4],\"\\t\\t\",price[4],\"\\t\",qty[4],\"\\t\",amt[4])\n",
        "print(\"_____________________________________________________________________\")\n",
        "print(\"\\t\\t\\t\\t\",\"total =\",amt[0]+amt[1]+amt[2]+amt[3]+amt[4],\"\\t\")\n",
        "print(\" \")\n",
        "print(\"~~~~~~~~~~~~~~~~~~~~THANKS FOR VISITING~~~~~~~~~~~~~~~~~~~~~~~~~~~~~~\")\n"
      ],
      "metadata": {
        "id": "ZNt3ZsfhsYu5"
      },
      "execution_count": null,
      "outputs": []
    },
    {
      "cell_type": "code",
      "source": [
        "#user defined list\n",
        "l1 = []#make a blank list and append the l1.append 10 times to take 10 value as input\n",
        "l1.append (int(input(\"enter first value:\")))\n",
        "l1.append (int(input(\"enter second value:\")))\n",
        "l1.append (int(input(\"enter third value:\")))\n",
        "l1.append (int(input(\"enter fourth value:\")))\n",
        "l1.append (int(input(\"enter fivth value:\")))\n",
        "l1.append (int(input(\"enter sixth value:\")))\n",
        "l1.append (int(input(\"enter seventh value:\")))\n",
        "l1.append (int(input(\"enter eighth value:\")))\n",
        "l1.append ( int(input(\"enter ninth value:\")))\n",
        "l1.append (int(input(\"enter tenth value:\")))\n",
        "print(\"orginal list:\"\",\\n\",l1)\n",
        "l1.sort()\n",
        "print(\"sort value\",l1)\n",
        "l1.reverse()\n",
        "print(\"reversed\",l1)\n",
        "print(type(l1))\n"
      ],
      "metadata": {
        "id": "ajzydjB3svo0"
      },
      "execution_count": null,
      "outputs": []
    },
    {
      "cell_type": "code",
      "source": [
        "class_1 = [['vinay',87,76,76,87,76],['pratham',54,74,97,98,98]]\n",
        "class_2 = [['dattu',32,87,62,21,12],['aamdas',12,65,65,38,61]]\n",
        "print(\"class_1\",class_1)\n",
        "print(\"class_1 chi division \",class_1[0])\n",
        "print(\"class_1 chi student cha nav : \",class_1[0][0])\n",
        "print(\"class_1 chya studnt cha marks :\",class_1[0][1])\n"
      ],
      "metadata": {
        "id": "wiaDu7Yms97K"
      },
      "execution_count": null,
      "outputs": []
    },
    {
      "cell_type": "markdown",
      "source": [
        "#conditional statement\n"
      ],
      "metadata": {
        "id": "NsqaMDMRwFcy"
      }
    },
    {
      "cell_type": "code",
      "source": [
        "#IF ELSE\n",
        "#program for even and odd\n",
        "num = int(input(\"enter a number:\"))\n",
        "if(num%2==0):\n",
        "  print(\"it is a even number:\")\n",
        "else:\n",
        "  print(\"its is a odd number:\")"
      ],
      "metadata": {
        "colab": {
          "base_uri": "https://localhost:8080/"
        },
        "id": "xeX9NHGatNlV",
        "outputId": "10d6391b-7676-42d2-e72b-f621bb69e037"
      },
      "execution_count": null,
      "outputs": [
        {
          "output_type": "stream",
          "name": "stdout",
          "text": [
            "enter a number:87\n",
            "its is a odd number:\n"
          ]
        }
      ]
    },
    {
      "cell_type": "code",
      "source": [
        "#write a program to check whther number is in 1 to 10  or not\n",
        "num = int(input(\"enter a number\"))\n",
        "if(num>1 and num<10):\n",
        "  print(\"it is between 1 and 10\")\n",
        "else:\n",
        "  print(\"it is not between 1 and 10\")"
      ],
      "metadata": {
        "colab": {
          "base_uri": "https://localhost:8080/"
        },
        "id": "As4VemU3uHwG",
        "outputId": "2e1e8898-081f-4a0d-9561-3b9ab18b5782"
      },
      "execution_count": null,
      "outputs": [
        {
          "output_type": "stream",
          "name": "stdout",
          "text": [
            "enter a number2\n",
            "it is between 1 and 10\n"
          ]
        }
      ]
    },
    {
      "cell_type": "code",
      "source": [
        "#write a program to vote\n",
        "person = int(input(\"enter any number:\"))\n",
        "if(person>=18):\n",
        "  print(\"person can vote\")\n",
        "else:\n",
        "  print(\"person do not vote\")"
      ],
      "metadata": {
        "colab": {
          "base_uri": "https://localhost:8080/"
        },
        "id": "hvdgKPaMu8Au",
        "outputId": "907ef9b6-fada-4b04-9016-1e4f331a417c"
      },
      "execution_count": null,
      "outputs": [
        {
          "output_type": "stream",
          "name": "stdout",
          "text": [
            "enter any number:45\n",
            "person can vote\n"
          ]
        }
      ]
    },
    {
      "cell_type": "markdown",
      "source": [
        "Elif if statement."
      ],
      "metadata": {
        "id": "D7hL-SD-v_ze"
      }
    },
    {
      "cell_type": "code",
      "source": [
        "#write a program to know if given number is zero,negative or postive\n",
        "num = int(input(\"enter a number :\"))\n",
        "if(num==0):\n",
        "  print(\"it is zero\")\n",
        "elif(num>0):\n",
        "  print(\"its postive number \")\n",
        "else:\n",
        "  print(\"its negative number \")\n"
      ],
      "metadata": {
        "colab": {
          "base_uri": "https://localhost:8080/"
        },
        "id": "QGhGyKeHvbx3",
        "outputId": "32d5f997-4c3c-4237-b036-bd6905d9d3dd"
      },
      "execution_count": null,
      "outputs": [
        {
          "output_type": "stream",
          "name": "stdout",
          "text": [
            "enter a number :76\n",
            "its postive number \n"
          ]
        }
      ]
    },
    {
      "cell_type": "code",
      "source": [
        "#write a program to print a week and month\n",
        "num = int(input(\"enter a number :\"))\n",
        "if(num==1):\n",
        "  print(\"its monday\")\n",
        "elif(num==2):\n",
        "  print(\"its tuesday\")\n",
        "elif(num==3):\n",
        "  print(\"its wednesday\")\n",
        "elif(num==4):\n",
        "  print(\"its thrusday\")\n",
        "elif(num==5):\n",
        "  print(\"its friday\")\n",
        "elif(num==6):\n",
        "  print(\"its saturday\")\n",
        "elif(num==7):\n",
        "  print(\"its sunday\")\n",
        "else:\n",
        "  print(\"its an erorr\")\n",
        "\n",
        "\n",
        "\n",
        "\n"
      ],
      "metadata": {
        "colab": {
          "base_uri": "https://localhost:8080/"
        },
        "id": "Ju1hLc9Zw6bz",
        "outputId": "c107f4e8-31ae-43d3-ed00-0745b3cef83c"
      },
      "execution_count": null,
      "outputs": [
        {
          "output_type": "stream",
          "name": "stdout",
          "text": [
            "enter a number :5\n",
            "its friday\n"
          ]
        }
      ]
    },
    {
      "cell_type": "code",
      "source": [
        "#program 2\n",
        "\n",
        "#calculation of Gross salary\n",
        "bs = int(input(\"enter basic salary :\"))\n",
        "if bs<=10000:\n",
        "  da=bs*0.2\n",
        "  hra=bs*0.8\n",
        "elif bs<=20000 and bs>10000:\n",
        "  hra=bs*0.9\n",
        "  da=bs*0.25\n",
        "else:\n",
        "  da=bs*0.3\n",
        "  hra=bs*0.95\n",
        "gs=bs+da+hra\n",
        "print(\"gross salary :\",gs)\n"
      ],
      "metadata": {
        "id": "vr4ZEfMQl-WC"
      },
      "execution_count": null,
      "outputs": []
    },
    {
      "cell_type": "code",
      "source": [
        "#program 4\n",
        "\n",
        "#overtime pay\n",
        "no_hrs=int(input(\"enter no of hours : \"))\n",
        "extra = no_hrs + 40\n",
        "overtime=extra*12\n",
        "if no_hrs>40:\n",
        "  print(\"overtime pay is Rs.{} \".format(overtime))\n",
        "else:\n",
        "  print(\"pay extra\",no_hrs)"
      ],
      "metadata": {
        "id": "tmFiRiPnvM8H",
        "colab": {
          "base_uri": "https://localhost:8080/"
        },
        "outputId": "9e9656b2-68aa-4e16-b18d-b220c2156e8e"
      },
      "execution_count": null,
      "outputs": [
        {
          "output_type": "stream",
          "name": "stdout",
          "text": [
            "enter no of hours : 32\n",
            "pay extra 32\n"
          ]
        }
      ]
    },
    {
      "cell_type": "markdown",
      "source": [
        "NESTED IF STATEMENT\n"
      ],
      "metadata": {
        "id": "EIkix9EYzlpM"
      }
    },
    {
      "cell_type": "code",
      "source": [
        "#write a program he or she can marry or not\n",
        "age = int(input(\"enter a age :\"))\n",
        "if(age<18):\n",
        "  print(\"both are not allowed\")\n",
        "elif(age>18):\n",
        "  print(\"girl can marry\")\n",
        "  if(age>21):\n",
        "   print(\"boy can marry\")\n",
        "\n",
        "\n"
      ],
      "metadata": {
        "id": "o-WKNoaK01DN",
        "outputId": "9fff73f9-c79d-4b67-df79-f9bfcdd507c9",
        "colab": {
          "base_uri": "https://localhost:8080/"
        }
      },
      "execution_count": null,
      "outputs": [
        {
          "output_type": "stream",
          "name": "stdout",
          "text": [
            "enter a age :21\n",
            "girl can marry\n"
          ]
        }
      ]
    },
    {
      "cell_type": "code",
      "source": [
        "#program to wish accornding to time\n",
        "time = int(input(\"enter a Time :\"))\n",
        "if(time<12):\n",
        "  print(\"Good Morning Sir\")\n",
        "elif(16>time>12):\n",
        "  print(\"good afternoon Sir\")\n",
        "elif(20>time>16):\n",
        "  print(\"good evening Sir\")\n",
        "else:\n",
        "  print(\"good night Sir\")\n",
        "\n"
      ],
      "metadata": {
        "id": "21HHMv04X40A",
        "outputId": "54bb577f-b2f9-4ed1-97f1-b013879823a3",
        "colab": {
          "base_uri": "https://localhost:8080/"
        }
      },
      "execution_count": null,
      "outputs": [
        {
          "output_type": "stream",
          "name": "stdout",
          "text": [
            "enter a Time :17\n",
            "good evening Sir\n"
          ]
        }
      ]
    },
    {
      "cell_type": "code",
      "source": [
        "#prctical no 5\n",
        "#the speed of the drivers\n",
        "\n",
        "speed=int(input(\"enter speed :\"))\n",
        "if speed<=70:\n",
        "  print(\"OK\")\n",
        "else:\n",
        "  speed1=(speed-70)/5\n",
        "  if speed<=12:\n",
        "    print(\"points\",speed1)\n",
        "  else:\n",
        "    print(\"Points\",speed1)\n",
        "    print(\"License ssupended\")\n"
      ],
      "metadata": {
        "id": "wwzr6woN26US",
        "colab": {
          "base_uri": "https://localhost:8080/"
        },
        "outputId": "fdf1f2de-9f80-40c0-97b3-ebfc76030c20"
      },
      "execution_count": null,
      "outputs": [
        {
          "output_type": "stream",
          "name": "stdout",
          "text": [
            "enter speed :11\n",
            "OK\n"
          ]
        }
      ]
    },
    {
      "cell_type": "code",
      "source": [
        "import time\n",
        "timestamp = (time.strftime('%H:%M:%S'))\n",
        "print(timestamp)\n",
        "timestamp = time.strftime('%H')\n",
        "print(timestamp)\n",
        "timestamp = time.strftime('%M')\n",
        "print(timestamp)\n",
        "timestamp = time.strftime('%S')\n",
        "print(timestamp)\n",
        "# https://docs.python.org/3/library/time.html#time.strftime\n"
      ],
      "metadata": {
        "id": "n_FrP676ZvbD",
        "outputId": "787a89b2-440b-4028-e27b-666bbc0a3b1f",
        "colab": {
          "base_uri": "https://localhost:8080/"
        }
      },
      "execution_count": null,
      "outputs": [
        {
          "output_type": "stream",
          "name": "stdout",
          "text": [
            "14:12:25\n",
            "14\n",
            "12\n",
            "25\n"
          ]
        }
      ]
    },
    {
      "cell_type": "markdown",
      "source": [
        "MATCH CASE\n"
      ],
      "metadata": {
        "id": "wY4uV7tHejFq"
      }
    },
    {
      "cell_type": "code",
      "source": [
        "x = int(input(\"enter a number\"))\n",
        "# x is the variable to match\n",
        "match x:\n",
        "    # if x is 0\n",
        "    case 0:\n",
        "        print(\"x is zero\")\n",
        "    # case with if-condition\n",
        "    case 4 if x % 2 == 0:\n",
        "        print(\"x % 2 == 0 and case is 4\")\n",
        "    # Empty case with if-condition\n",
        "    case _ if x < 10:\n",
        "        print(\"x is < 10\")\n",
        "    # default case(will only be matched if the above cases were not matched)\n",
        "    # so it is basically just an else:\n",
        "    case _:\n",
        "        print(x)"
      ],
      "metadata": {
        "id": "eEdZzG9daiqs",
        "outputId": "c5f7ff8a-8ae0-478e-f6a8-57959bbd73b0",
        "colab": {
          "base_uri": "https://localhost:8080/"
        }
      },
      "execution_count": null,
      "outputs": [
        {
          "output_type": "stream",
          "name": "stdout",
          "text": [
            "enter a number9\n",
            "x is < 10\n"
          ]
        }
      ]
    },
    {
      "cell_type": "markdown",
      "source": [
        "#Loops"
      ],
      "metadata": {
        "id": "Jo4OfiWM5fUy"
      }
    },
    {
      "cell_type": "markdown",
      "source": [
        "FOR LOOP :\n"
      ],
      "metadata": {
        "id": "xPRKpF9CpNf4"
      }
    },
    {
      "cell_type": "code",
      "source": [
        "#for iletration of string\n",
        "name = \"vinay\"\n",
        "for i in name :\n",
        "  print(i ,end=\",\")"
      ],
      "metadata": {
        "id": "MBSx3GY-tS24",
        "outputId": "de86287d-f0ca-400c-95d2-b5d86d415ff8",
        "colab": {
          "base_uri": "https://localhost:8080/"
        }
      },
      "execution_count": null,
      "outputs": [
        {
          "output_type": "stream",
          "name": "stdout",
          "text": [
            "v,i,n,a,y,"
          ]
        }
      ]
    },
    {
      "cell_type": "code",
      "source": [
        "#for ilterartion of list\n",
        "a = [12,23,45,56]\n",
        "for i in a:\n",
        "  print(i, sep = \"/\")\n"
      ],
      "metadata": {
        "id": "DXbBL3G7tuHJ",
        "outputId": "044e560a-6696-438e-c8b9-7916309ba967",
        "colab": {
          "base_uri": "https://localhost:8080/"
        }
      },
      "execution_count": null,
      "outputs": [
        {
          "output_type": "stream",
          "name": "stdout",
          "text": [
            "12\n",
            "23\n",
            "45\n",
            "56\n"
          ]
        }
      ]
    },
    {
      "cell_type": "code",
      "source": [
        "#write a program to display each charcter in string\n",
        "name = \"python\"\n",
        "n = len(name)\n",
        "for i in range(n):\n",
        "  print(name[i])"
      ],
      "metadata": {
        "id": "d6uReXhduPmg",
        "outputId": "a8b78658-26b2-4c03-e997-0c7ba70b5ff9",
        "colab": {
          "base_uri": "https://localhost:8080/"
        }
      },
      "execution_count": null,
      "outputs": [
        {
          "output_type": "stream",
          "name": "stdout",
          "text": [
            "p\n",
            "y\n",
            "t\n",
            "h\n",
            "o\n",
            "n\n"
          ]
        }
      ]
    },
    {
      "cell_type": "code",
      "source": [
        "#write a program to display and find the sum of list of numbers using for loop\n",
        "list1 = [12,23,34,56]\n",
        "sum = 0\n",
        "for i in list1:\n",
        "  print(i)\n",
        "  sum+=i\n",
        "print(\"sum:\",sum)\n"
      ],
      "metadata": {
        "id": "gvQCurxmvUsp",
        "outputId": "2113b596-72e2-4b7d-deb9-80e1e523e103",
        "colab": {
          "base_uri": "https://localhost:8080/"
        }
      },
      "execution_count": null,
      "outputs": [
        {
          "output_type": "stream",
          "name": "stdout",
          "text": [
            "12\n",
            "23\n",
            "34\n",
            "56\n",
            "sum: 125\n"
          ]
        }
      ]
    },
    {
      "cell_type": "code",
      "source": [
        "#range\n",
        "for i in range(1,100):\n",
        "  print(i)"
      ],
      "metadata": {
        "colab": {
          "base_uri": "https://localhost:8080/"
        },
        "id": "CZ66l76Ju2iU",
        "outputId": "f2ac5964-869e-49d3-88e8-be3782bba7d9"
      },
      "execution_count": null,
      "outputs": [
        {
          "output_type": "stream",
          "name": "stdout",
          "text": [
            "1\n",
            "2\n",
            "3\n",
            "4\n",
            "5\n",
            "6\n",
            "7\n",
            "8\n",
            "9\n",
            "10\n",
            "11\n",
            "12\n",
            "13\n",
            "14\n",
            "15\n",
            "16\n",
            "17\n",
            "18\n",
            "19\n",
            "20\n",
            "21\n",
            "22\n",
            "23\n",
            "24\n",
            "25\n",
            "26\n",
            "27\n",
            "28\n",
            "29\n",
            "30\n",
            "31\n",
            "32\n",
            "33\n",
            "34\n",
            "35\n",
            "36\n",
            "37\n",
            "38\n",
            "39\n",
            "40\n",
            "41\n",
            "42\n",
            "43\n",
            "44\n",
            "45\n",
            "46\n",
            "47\n",
            "48\n",
            "49\n",
            "50\n",
            "51\n",
            "52\n",
            "53\n",
            "54\n",
            "55\n",
            "56\n",
            "57\n",
            "58\n",
            "59\n",
            "60\n",
            "61\n",
            "62\n",
            "63\n",
            "64\n",
            "65\n",
            "66\n",
            "67\n",
            "68\n",
            "69\n",
            "70\n",
            "71\n",
            "72\n",
            "73\n",
            "74\n",
            "75\n",
            "76\n",
            "77\n",
            "78\n",
            "79\n",
            "80\n",
            "81\n",
            "82\n",
            "83\n",
            "84\n",
            "85\n",
            "86\n",
            "87\n",
            "88\n",
            "89\n",
            "90\n",
            "91\n",
            "92\n",
            "93\n",
            "94\n",
            "95\n",
            "96\n",
            "97\n",
            "98\n",
            "99\n"
          ]
        }
      ]
    },
    {
      "cell_type": "code",
      "source": [],
      "metadata": {
        "id": "u-35zGSsw9Uj"
      },
      "execution_count": null,
      "outputs": []
    },
    {
      "cell_type": "markdown",
      "source": [
        " While loop"
      ],
      "metadata": {
        "id": "mS3G_zses3bG"
      }
    },
    {
      "cell_type": "code",
      "source": [
        "x = 1\n",
        "while(x<5):\n",
        "  print(x)\n",
        "  x+=1\n",
        "print(\"end the loop\")"
      ],
      "metadata": {
        "id": "1JBBvthWwjBR",
        "colab": {
          "base_uri": "https://localhost:8080/"
        },
        "outputId": "0992ee85-9caf-4c01-d393-b8e98e509ee7"
      },
      "execution_count": null,
      "outputs": [
        {
          "output_type": "stream",
          "name": "stdout",
          "text": [
            "1\n",
            "2\n",
            "3\n",
            "4\n",
            "end the loop\n"
          ]
        }
      ]
    },
    {
      "cell_type": "code",
      "source": [
        "x = 100\n",
        "while(x>=100 and x<=200):\n",
        "  print(x)\n",
        "  x+=1\n"
      ],
      "metadata": {
        "colab": {
          "base_uri": "https://localhost:8080/"
        },
        "id": "kMKaKAWXtFs4",
        "outputId": "aa730467-d7db-473d-a672-cce3329830f2"
      },
      "execution_count": null,
      "outputs": [
        {
          "output_type": "stream",
          "name": "stdout",
          "text": [
            "100\n",
            "101\n",
            "102\n",
            "103\n",
            "104\n",
            "105\n",
            "106\n",
            "107\n",
            "108\n",
            "109\n",
            "110\n",
            "111\n",
            "112\n",
            "113\n",
            "114\n",
            "115\n",
            "116\n",
            "117\n",
            "118\n",
            "119\n",
            "120\n",
            "121\n",
            "122\n",
            "123\n",
            "124\n",
            "125\n",
            "126\n",
            "127\n",
            "128\n",
            "129\n",
            "130\n",
            "131\n",
            "132\n",
            "133\n",
            "134\n",
            "135\n",
            "136\n",
            "137\n",
            "138\n",
            "139\n",
            "140\n",
            "141\n",
            "142\n",
            "143\n",
            "144\n",
            "145\n",
            "146\n",
            "147\n",
            "148\n",
            "149\n",
            "150\n",
            "151\n",
            "152\n",
            "153\n",
            "154\n",
            "155\n",
            "156\n",
            "157\n",
            "158\n",
            "159\n",
            "160\n",
            "161\n",
            "162\n",
            "163\n",
            "164\n",
            "165\n",
            "166\n",
            "167\n",
            "168\n",
            "169\n",
            "170\n",
            "171\n",
            "172\n",
            "173\n",
            "174\n",
            "175\n",
            "176\n",
            "177\n",
            "178\n",
            "179\n",
            "180\n",
            "181\n",
            "182\n",
            "183\n",
            "184\n",
            "185\n",
            "186\n",
            "187\n",
            "188\n",
            "189\n",
            "190\n",
            "191\n",
            "192\n",
            "193\n",
            "194\n",
            "195\n",
            "196\n",
            "197\n",
            "198\n",
            "199\n",
            "200\n"
          ]
        }
      ]
    },
    {
      "cell_type": "code",
      "source": [
        "m = int(input(\"enter a value :\"))\n",
        "n = int(input(\"enter a value :\"))\n",
        "x = m\n",
        "if x % 2!=0:\n",
        "  x+=1\n",
        "while(x>=m and x<=n):\n",
        " print(x)\n",
        " x+=2"
      ],
      "metadata": {
        "colab": {
          "base_uri": "https://localhost:8080/"
        },
        "id": "jOV7IDwFuxuR",
        "outputId": "9c22002d-170e-49b1-f486-2b0978321a2e"
      },
      "execution_count": null,
      "outputs": [
        {
          "output_type": "stream",
          "name": "stdout",
          "text": [
            "enter a value :23 \n",
            "enter a value :67\n",
            "24\n",
            "26\n",
            "28\n",
            "30\n",
            "32\n",
            "34\n",
            "36\n",
            "38\n",
            "40\n",
            "42\n",
            "44\n",
            "46\n",
            "48\n",
            "50\n",
            "52\n",
            "54\n",
            "56\n",
            "58\n",
            "60\n",
            "62\n",
            "64\n",
            "66\n"
          ]
        }
      ]
    },
    {
      "cell_type": "code",
      "source": [
        "#to find the sum of the of list of numbers\n",
        "list1 = [10,23,45,67]\n",
        "i = 0\n",
        "sum = 0\n",
        "while(i<len(list1)):\n",
        "  print(list1[i])\n",
        "  sum+=list1[i]\n",
        "  i+=1\n",
        "print(\"sum of the list is {}\".format(sum))\n",
        "\n"
      ],
      "metadata": {
        "colab": {
          "base_uri": "https://localhost:8080/"
        },
        "id": "4tztGI03xDhy",
        "outputId": "e07abecf-c580-4781-b5dd-d6a23f5bc3b4"
      },
      "execution_count": null,
      "outputs": [
        {
          "output_type": "stream",
          "name": "stdout",
          "text": [
            "10\n",
            "23\n",
            "45\n",
            "67\n",
            "sum of the list is 145\n"
          ]
        }
      ]
    },
    {
      "cell_type": "code",
      "source": [
        "#factoral\n",
        "n = int(input(\"enter a number :\"))\n",
        "fac = 1\n",
        "for i in range(1,n+1):\n",
        "  print(i)\n",
        "  fac*=i\n",
        "print(\"factorial of {} is {}\".format(n,fac))"
      ],
      "metadata": {
        "colab": {
          "base_uri": "https://localhost:8080/"
        },
        "id": "WymrU8V5yMPT",
        "outputId": "ef9c9c6c-d046-461d-904d-af5befdd8325"
      },
      "execution_count": null,
      "outputs": [
        {
          "output_type": "stream",
          "name": "stdout",
          "text": [
            "enter a number :5\n",
            "1\n",
            "2\n",
            "3\n",
            "4\n",
            "5\n",
            "factorial of 5 is 120\n"
          ]
        }
      ]
    },
    {
      "cell_type": "code",
      "source": [
        "n = int(input(\"enter a number:\"))\n",
        "fac = 1\n",
        "i = 1\n",
        "while(i<n+1):\n",
        "  print(i)\n",
        "  fac*=i\n",
        "  i+=1\n",
        "print(\"factorial of {} is {} \".format(n,fac))"
      ],
      "metadata": {
        "colab": {
          "base_uri": "https://localhost:8080/"
        },
        "id": "XeTbQzuZzyxw",
        "outputId": "425a8474-f4d8-4056-976a-f65df815a086"
      },
      "execution_count": null,
      "outputs": [
        {
          "output_type": "stream",
          "name": "stdout",
          "text": [
            "enter a number:2\n",
            "1\n",
            "2\n",
            "factorial of 2 is 2 \n"
          ]
        }
      ]
    },
    {
      "cell_type": "code",
      "source": [
        "#program 2\n",
        "#write a program to check whether given number is Palindrome or not\n",
        "\n",
        "num=int(input(\"enter a value :\"))\n",
        "temp=num\n",
        "rev=0\n",
        "\n",
        "while(num>0):\n",
        " rem=num%10\n",
        " rev=rev*10+rem\n",
        " num=num//10\n",
        "\n",
        "if(temp==rev):\n",
        "  print(\"this value is a palindrome number\")\n",
        "else:\n",
        "  print(\"this value is not a palindrome number\")\n",
        "\n"
      ],
      "metadata": {
        "id": "w7zRZg2-qTKf"
      },
      "execution_count": null,
      "outputs": []
    },
    {
      "cell_type": "code",
      "source": [
        "#program 3\n",
        "#write a program to check whwther given number is Asmstrong or not.\n",
        "\n",
        "num=int(input(\"enter a number\"))\n",
        "sum=0\n",
        "temp=num\n",
        "\n",
        "while(num>0):\n",
        "  rem=num%10\n",
        "  sum=sum+rem**3\n",
        "  num=num//10\n",
        "\n",
        "if temp==sum:\n",
        "   print(temp,\"is an armstrong number\")\n",
        "else:\n",
        "   print(temp,\"is not a armstrong number\")"
      ],
      "metadata": {
        "id": "CxrAiZmEskgo"
      },
      "execution_count": null,
      "outputs": []
    },
    {
      "cell_type": "code",
      "source": [
        "#program 5\n",
        "#write a python which uterates the interger from 1 to 50. for multiplies of three print\"fizz\" instead of the numbers and for the numbers of five print \"buzz\", for numbers which are multiples of both three annd five print \"fizzbuzz\".\n",
        "\n",
        "for i in range(1,50):\n",
        "  if i%3==0 and i%5==0:\n",
        "    print(\"FIZZBUZZ\")\n",
        "  elif i%3==0:\n",
        "    print(\"fizz\")\n",
        "  elif i%5==0:\n",
        "    print(\"buzz\")\n",
        "  else:\n",
        "    print(i)"
      ],
      "metadata": {
        "id": "FVFyGiC-vgW4",
        "colab": {
          "base_uri": "https://localhost:8080/"
        },
        "outputId": "86ae4d03-429b-4b6d-869a-0d54db875348"
      },
      "execution_count": null,
      "outputs": [
        {
          "output_type": "stream",
          "name": "stdout",
          "text": [
            "1\n",
            "2\n",
            "fizz\n",
            "4\n",
            "buzz\n",
            "fizz\n",
            "7\n",
            "8\n",
            "fizz\n",
            "buzz\n",
            "11\n",
            "fizz\n",
            "13\n",
            "14\n",
            "FIZZBUZZ\n",
            "16\n",
            "17\n",
            "fizz\n",
            "19\n",
            "buzz\n",
            "fizz\n",
            "22\n",
            "23\n",
            "fizz\n",
            "buzz\n",
            "26\n",
            "fizz\n",
            "28\n",
            "29\n",
            "FIZZBUZZ\n",
            "31\n",
            "32\n",
            "fizz\n",
            "34\n",
            "buzz\n",
            "fizz\n",
            "37\n",
            "38\n",
            "fizz\n",
            "buzz\n",
            "41\n",
            "fizz\n",
            "43\n",
            "44\n",
            "FIZZBUZZ\n",
            "46\n",
            "47\n",
            "fizz\n",
            "49\n"
          ]
        }
      ]
    },
    {
      "cell_type": "code",
      "source": [
        "#program 6\n",
        "#write a program to check wheteher given number is perfect number or not\n",
        "\n",
        "n=int(input(\"enter number :\"))\n",
        "sum=0\n",
        "for i in range(1,n):\n",
        "  if (n%i==0):\n",
        "    sum+=i\n",
        "if(n==sum):\n",
        "  print(n,\"is a perfect number\")\n",
        "else:\n",
        "  print(n,\"is not a perfect number\")\n",
        "\n"
      ],
      "metadata": {
        "id": "FSJaNsZijboR"
      },
      "execution_count": null,
      "outputs": []
    },
    {
      "cell_type": "markdown",
      "source": [
        "break and continue statement\n"
      ],
      "metadata": {
        "id": "CRnOq1mb9g0s"
      }
    },
    {
      "cell_type": "code",
      "source": [
        "x = 1\n",
        "while(x<=10):\n",
        "  print(x)\n",
        "  x+=1\n",
        "  if x>5:\n",
        "    break\n",
        "print(\"out of loop\")\n"
      ],
      "metadata": {
        "colab": {
          "base_uri": "https://localhost:8080/"
        },
        "id": "4nfR3YNQ70s0",
        "outputId": "4459795d-396e-48d1-f1fc-98cdf0116329"
      },
      "execution_count": null,
      "outputs": [
        {
          "output_type": "stream",
          "name": "stdout",
          "text": [
            "1\n",
            "2\n",
            "3\n",
            "4\n",
            "5\n",
            "out of loop\n"
          ]
        }
      ]
    },
    {
      "cell_type": "code",
      "source": [
        "for i in range(1,101,1):\n",
        "    print(i ,end=\" \")\n",
        "    if(i==50):\n",
        "        break\n",
        "    else:\n",
        "        print(\"Mississippi\")\n",
        "print(\"Thank you\")"
      ],
      "metadata": {
        "colab": {
          "base_uri": "https://localhost:8080/"
        },
        "id": "fxpketPj_5UE",
        "outputId": "baa80ac6-8d6c-4cd4-da00-e34a37cc0ca8"
      },
      "execution_count": null,
      "outputs": [
        {
          "output_type": "stream",
          "name": "stdout",
          "text": [
            "1 Mississippi\n",
            "2 Mississippi\n",
            "3 Mississippi\n",
            "4 Mississippi\n",
            "5 Mississippi\n",
            "6 Mississippi\n",
            "7 Mississippi\n",
            "8 Mississippi\n",
            "9 Mississippi\n",
            "10 Mississippi\n",
            "11 Mississippi\n",
            "12 Mississippi\n",
            "13 Mississippi\n",
            "14 Mississippi\n",
            "15 Mississippi\n",
            "16 Mississippi\n",
            "17 Mississippi\n",
            "18 Mississippi\n",
            "19 Mississippi\n",
            "20 Mississippi\n",
            "21 Mississippi\n",
            "22 Mississippi\n",
            "23 Mississippi\n",
            "24 Mississippi\n",
            "25 Mississippi\n",
            "26 Mississippi\n",
            "27 Mississippi\n",
            "28 Mississippi\n",
            "29 Mississippi\n",
            "30 Mississippi\n",
            "31 Mississippi\n",
            "32 Mississippi\n",
            "33 Mississippi\n",
            "34 Mississippi\n",
            "35 Mississippi\n",
            "36 Mississippi\n",
            "37 Mississippi\n",
            "38 Mississippi\n",
            "39 Mississippi\n",
            "40 Mississippi\n",
            "41 Mississippi\n",
            "42 Mississippi\n",
            "43 Mississippi\n",
            "44 Mississippi\n",
            "45 Mississippi\n",
            "46 Mississippi\n",
            "47 Mississippi\n",
            "48 Mississippi\n",
            "49 Mississippi\n",
            "50 Thank you\n"
          ]
        }
      ]
    },
    {
      "cell_type": "code",
      "source": [
        "for i in [2,3,4,6,8,0]:\n",
        "    if (i%2!=0):\n",
        "        continue\n",
        "    print(i)"
      ],
      "metadata": {
        "id": "hjjb4ENqAHv0"
      },
      "execution_count": null,
      "outputs": []
    },
    {
      "cell_type": "code",
      "source": [
        "#continue\n",
        "x = 0\n",
        "while(x<10):\n",
        "  x+=1\n",
        "  if x>5:\n",
        "    continue\n",
        "  print(\"x = \",x)\n",
        "print(\"End\")"
      ],
      "metadata": {
        "colab": {
          "base_uri": "https://localhost:8080/"
        },
        "id": "7qxNKlcv-sKR",
        "outputId": "23468dc0-6bf7-49a1-95d7-d3b97c283648"
      },
      "execution_count": null,
      "outputs": [
        {
          "output_type": "stream",
          "name": "stdout",
          "text": [
            "x =  1\n",
            "x =  2\n",
            "x =  3\n",
            "x =  4\n",
            "x =  5\n",
            "End\n"
          ]
        }
      ]
    },
    {
      "cell_type": "markdown",
      "source": [
        "the else suite\n"
      ],
      "metadata": {
        "id": "7BJOgssIBDN3"
      }
    },
    {
      "cell_type": "code",
      "source": [
        "for i in range(5):\n",
        "  print(\"yes\")\n",
        "else:\n",
        "  print(\"no\")"
      ],
      "metadata": {
        "colab": {
          "base_uri": "https://localhost:8080/"
        },
        "id": "mReus270BGTp",
        "outputId": "2df441ee-847e-4acb-e094-72cfef100914"
      },
      "execution_count": null,
      "outputs": [
        {
          "output_type": "stream",
          "name": "stdout",
          "text": [
            "yes\n",
            "yes\n",
            "yes\n",
            "yes\n",
            "yes\n",
            "no\n"
          ]
        }
      ]
    },
    {
      "cell_type": "code",
      "source": [
        "for i in range(0):\n",
        "  print(\"yes\")\n",
        "else:\n",
        "  print(\"no\")"
      ],
      "metadata": {
        "outputId": "fd01fc1b-77b0-4c9d-e279-cbac53e296dc",
        "colab": {
          "base_uri": "https://localhost:8080/"
        },
        "id": "f8kTM11DBU05"
      },
      "execution_count": null,
      "outputs": [
        {
          "output_type": "stream",
          "name": "stdout",
          "text": [
            "no\n"
          ]
        }
      ]
    },
    {
      "cell_type": "code",
      "source": [
        "#write a program to serach an element inn the list\n",
        "grp1 = [12,23,34,45]\n",
        "search = int(input(\"enter a element:\"))\n",
        "for element in grp1:\n",
        "  if search == element:\n",
        "    print(\"element found\")\n",
        "    break\n",
        "else:\n",
        "  print(\" not found\")"
      ],
      "metadata": {
        "colab": {
          "base_uri": "https://localhost:8080/"
        },
        "id": "PBBxR8fhBYE0",
        "outputId": "981f21c4-f9d6-4e6d-b715-7b9b86df24bd"
      },
      "execution_count": null,
      "outputs": [
        {
          "output_type": "stream",
          "name": "stdout",
          "text": [
            "enter a element:67\n",
            " not found\n"
          ]
        }
      ]
    },
    {
      "cell_type": "markdown",
      "source": [
        "#nested statement\n"
      ],
      "metadata": {
        "id": "ZW1nO34fU-6b"
      }
    },
    {
      "cell_type": "code",
      "source": [
        "for i in range(4): #i values are from 0 to 3\n",
        "  for j in range(5): #j value are from 0 to 4\n",
        "    print(\"i =\",i, '\\t' ,\"j=\",j)"
      ],
      "metadata": {
        "id": "4eXlX35RCXL8",
        "colab": {
          "base_uri": "https://localhost:8080/"
        },
        "outputId": "ff395405-da99-42d6-d1c4-da629df2797e"
      },
      "execution_count": null,
      "outputs": [
        {
          "output_type": "stream",
          "name": "stdout",
          "text": [
            "i = 0 \t j= 0\n",
            "i = 0 \t j= 1\n",
            "i = 0 \t j= 2\n",
            "i = 0 \t j= 3\n",
            "i = 0 \t j= 4\n",
            "i = 1 \t j= 0\n",
            "i = 1 \t j= 1\n",
            "i = 1 \t j= 2\n",
            "i = 1 \t j= 3\n",
            "i = 1 \t j= 4\n",
            "i = 2 \t j= 0\n",
            "i = 2 \t j= 1\n",
            "i = 2 \t j= 2\n",
            "i = 2 \t j= 3\n",
            "i = 2 \t j= 4\n",
            "i = 3 \t j= 0\n",
            "i = 3 \t j= 1\n",
            "i = 3 \t j= 2\n",
            "i = 3 \t j= 3\n",
            "i = 3 \t j= 4\n"
          ]
        }
      ]
    },
    {
      "cell_type": "code",
      "source": [
        "# python program that display star in right angled tringular form\n",
        "for i in range(1,11): #display number 1 to 10\n",
        "  for j in range(1,1+i): #no of stars = no of rows\n",
        "    print(\"*\",end=\" \")\n",
        "  print()"
      ],
      "metadata": {
        "colab": {
          "base_uri": "https://localhost:8080/"
        },
        "id": "_uwmgScGoB5t",
        "outputId": "0b2ef1d5-29e1-48bf-f7e9-7172d3c40172"
      },
      "execution_count": null,
      "outputs": [
        {
          "output_type": "stream",
          "name": "stdout",
          "text": [
            "* \n",
            "* * \n",
            "* * * \n",
            "* * * * \n",
            "* * * * * \n",
            "* * * * * * \n",
            "* * * * * * * \n",
            "* * * * * * * * \n",
            "* * * * * * * * * \n",
            "* * * * * * * * * * \n"
          ]
        }
      ]
    },
    {
      "cell_type": "code",
      "source": [
        "for i in range(11,1,-1): #display number 1 to 10\n",
        "  for j in range(1,i-1): #no of stars = no of rows\n",
        "    print(\"*\",end=\" \")\n",
        "  print()"
      ],
      "metadata": {
        "colab": {
          "base_uri": "https://localhost:8080/"
        },
        "id": "kDOQeSbyp8c8",
        "outputId": "7bb9a560-4d81-414e-9461-4dde177211cc"
      },
      "execution_count": null,
      "outputs": [
        {
          "output_type": "stream",
          "name": "stdout",
          "text": [
            "* * * * * * * * * \n",
            "* * * * * * * * \n",
            "* * * * * * * \n",
            "* * * * * * \n",
            "* * * * * \n",
            "* * * * \n",
            "* * * \n",
            "* * \n",
            "* \n",
            "\n"
          ]
        }
      ]
    },
    {
      "cell_type": "code",
      "source": [
        "# Number of rows\n",
        "N = 5\n",
        "\n",
        "# Outer loop runs N times, once for each row\n",
        "for i in range(1, N + 1):\n",
        "\t# Inner loop prints 'N - i' spaces\n",
        "\tfor j in range(1, N - i + 1):\n",
        "\t\tprint(\" \", end=\"\")\n",
        "\n",
        "\t# Inner loop prints 'i' stars\n",
        "\tfor j in range(1, i + 1):\n",
        "\t\tprint(\"*\", end=\"\")\n",
        "\t# Move to the next line\n",
        "\tprint()\n"
      ],
      "metadata": {
        "colab": {
          "base_uri": "https://localhost:8080/"
        },
        "id": "GsL9GLarqEke",
        "outputId": "148a065f-e950-4b6c-a757-5cda2c90f7b4"
      },
      "execution_count": null,
      "outputs": [
        {
          "output_type": "stream",
          "name": "stdout",
          "text": [
            "    *\n",
            "   **\n",
            "  ***\n",
            " ****\n",
            "*****\n"
          ]
        }
      ]
    },
    {
      "cell_type": "code",
      "source": [
        "#python program to form a equlateral program\n",
        "n = 40\n",
        "for i in range(1,11):\n",
        "  print(' '*n,end='') #repeat space for n times\n",
        "  print('* '*(i)) # repeat star for i times\n",
        "  n-=1"
      ],
      "metadata": {
        "colab": {
          "base_uri": "https://localhost:8080/"
        },
        "id": "b_0hMAI1rUxz",
        "outputId": "8a4bfb21-92aa-4b25-909a-0eb578ef4f0b"
      },
      "execution_count": null,
      "outputs": [
        {
          "output_type": "stream",
          "name": "stdout",
          "text": [
            "                                        * \n",
            "                                       * * \n",
            "                                      * * * \n",
            "                                     * * * * \n",
            "                                    * * * * * \n",
            "                                   * * * * * * \n",
            "                                  * * * * * * * \n",
            "                                 * * * * * * * * \n",
            "                                * * * * * * * * * \n",
            "                               * * * * * * * * * * \n"
          ]
        }
      ]
    },
    {
      "cell_type": "code",
      "source": [
        "for x in range(1,11):\n",
        "  for y in range(1,11):\n",
        "    print('{:8}'.format(x*y), end = \" \")#each coloumb size is 8\n",
        "  print()"
      ],
      "metadata": {
        "colab": {
          "base_uri": "https://localhost:8080/"
        },
        "id": "T64TzXJIt14f",
        "outputId": "ec695488-1323-49b9-b8c2-6c997395ab9b"
      },
      "execution_count": null,
      "outputs": [
        {
          "output_type": "stream",
          "name": "stdout",
          "text": [
            "       1        2        3        4        5        6        7        8        9       10 \n",
            "       2        4        6        8       10       12       14       16       18       20 \n",
            "       3        6        9       12       15       18       21       24       27       30 \n",
            "       4        8       12       16       20       24       28       32       36       40 \n",
            "       5       10       15       20       25       30       35       40       45       50 \n",
            "       6       12       18       24       30       36       42       48       54       60 \n",
            "       7       14       21       28       35       42       49       56       63       70 \n",
            "       8       16       24       32       40       48       56       64       72       80 \n",
            "       9       18       27       36       45       54       63       72       81       90 \n",
            "      10       20       30       40       50       60       70       80       90      100 \n"
          ]
        }
      ]
    },
    {
      "cell_type": "code",
      "source": [
        "#a python program to check its a prime number or not\n",
        "max = int(input(\"enter a number:\"))\n",
        "for num in range(2,max+1): # genarate a number from 2 to max+1\n",
        "  for i in range(2,num): #generate a  number form 2 to num\n",
        "      if(num%i)==0 : #if num is divisbile by i\n",
        "         break # it is not prime,hence go back and check next num\n",
        "  else:\n",
        "    print(num)\n"
      ],
      "metadata": {
        "colab": {
          "base_uri": "https://localhost:8080/"
        },
        "id": "OVYr8WoBuQAW",
        "outputId": "4fae5d50-50e1-4f99-c577-75a6bd5a0b80"
      },
      "execution_count": null,
      "outputs": [
        {
          "output_type": "stream",
          "name": "stdout",
          "text": [
            "enter a number:30\n",
            "2\n",
            "3\n",
            "5\n",
            "7\n",
            "11\n",
            "13\n",
            "17\n",
            "19\n",
            "23\n",
            "29\n"
          ]
        }
      ]
    },
    {
      "cell_type": "code",
      "source": [
        "#fibonaci\n",
        "n = int(input(\"enter a number:\"))\n",
        "f1 = 0 #enter a first fibonaci number\n",
        "f2 = 1 #enter a second number\n",
        "c = 2 #counts the no of fibonaccis\n",
        "if n==1:\n",
        "  print(f1)\n",
        "elif n==2:\n",
        "  print(f1, '\\n' ,f2, sep = '')\n",
        "else :\n",
        "  print(print(f1, '\\n' ,f2, sep = ''))\n",
        "  while c<n:\n",
        "      f = f1+f2 #add two fibonaciss to get the new one\n",
        "      print(f)\n",
        "      f1,f2 = f2,f # this is same as f1=f2,f2=f\n",
        "      c+=1\n"
      ],
      "metadata": {
        "id": "upX_RUefx7xZ",
        "outputId": "f778a416-b629-41b1-a20d-f0a814459b33",
        "colab": {
          "base_uri": "https://localhost:8080/"
        }
      },
      "execution_count": null,
      "outputs": [
        {
          "output_type": "stream",
          "name": "stdout",
          "text": [
            "enter a number:10\n",
            "0\n",
            "1\n",
            "None\n",
            "1\n",
            "2\n",
            "3\n",
            "5\n",
            "8\n",
            "13\n",
            "21\n",
            "34\n"
          ]
        }
      ]
    },
    {
      "cell_type": "code",
      "source": [
        "a = 0\n",
        "b = 1\n",
        "num = int(input(\"enter a number : \"))\n",
        "if num==1:\n",
        "  print(a)\n",
        "else:\n",
        "  print(a, '\\n', b,sep = '')\n",
        "  for i in range(1,num+1):\n",
        "    c = a+b\n",
        "    print(c)\n",
        "    a = b\n",
        "    b = c\n"
      ],
      "metadata": {
        "id": "gZkSawF01pJQ",
        "outputId": "982ca189-e891-4f5f-a98f-ceddd2b19aa3",
        "colab": {
          "base_uri": "https://localhost:8080/"
        }
      },
      "execution_count": null,
      "outputs": [
        {
          "output_type": "stream",
          "name": "stdout",
          "text": [
            "enter a number : 10\n",
            "0\n",
            "1\n",
            "1\n",
            "2\n",
            "3\n",
            "5\n",
            "8\n",
            "13\n",
            "21\n",
            "34\n",
            "55\n",
            "89\n"
          ]
        }
      ]
    },
    {
      "cell_type": "code",
      "source": [
        "#love calculator\n",
        "name1  = input(\"enter a first name :\")\n",
        "name2 = input(\" enter a second name :\")\n",
        "combine_strings = name1 + name2\n",
        "lower_combine_strings = combine_strings.lower()\n",
        "t = lower_combine_strings.count('t')\n",
        "r = lower_combine_strings.count('r')\n",
        "u = lower_combine_strings.count('u')\n",
        "e = lower_combine_strings.count(\"e\")\n",
        "true = t+r+u+e\n",
        "l = lower_combine_strings.count(\"l\")\n",
        "o = lower_combine_strings.count(\"o\")\n",
        "v = lower_combine_strings.count(\"v\")\n",
        "e = lower_combine_strings.count(\"e\")\n",
        "love = l+o+v+e\n",
        "love_score = str(true)+str(love)\n",
        "if (int(love_score) < 10 or int(love_score) > 90):\n",
        "  print(f'Your score is {love_score} and you can go as long as coke and mentos')\n",
        "elif int(love_score)>=40 or int(love_score)<=50:\n",
        "  print(f'your score is {love_score} and your toghther is good')\n",
        "else:\n",
        "  print(f'your love score is {love_score}')\n"
      ],
      "metadata": {
        "id": "dM9HZOsm1025",
        "outputId": "b9765042-1c3a-49d1-d4bd-abf5779c2c90",
        "colab": {
          "base_uri": "https://localhost:8080/"
        }
      },
      "execution_count": null,
      "outputs": [
        {
          "output_type": "stream",
          "name": "stdout",
          "text": [
            "enter a first name :vinay kulkarni\n",
            " enter a second name :nikita mahakal\n",
            "your score is 33 and your toghther is good\n"
          ]
        }
      ]
    },
    {
      "cell_type": "markdown",
      "source": [
        "#list operation"
      ],
      "metadata": {
        "id": "9j5rz7P85vpP"
      }
    },
    {
      "cell_type": "code",
      "source": [
        "#creating a list\n",
        "list1 = [12,23,34,45]\n",
        "print(list1)\n",
        "print(f'the first number in list is {list1[0]} and last number is {list1[3]}')"
      ],
      "metadata": {
        "id": "cY62dHMGBE3Q",
        "outputId": "abfae83d-b18d-4d7a-e418-3618afea1c2a",
        "colab": {
          "base_uri": "https://localhost:8080/"
        }
      },
      "execution_count": null,
      "outputs": [
        {
          "output_type": "stream",
          "name": "stdout",
          "text": [
            "[12, 23, 34, 45]\n",
            "the first number in list is 12 and last number is 45\n"
          ]
        }
      ]
    },
    {
      "cell_type": "code",
      "source": [
        "#list using range\n",
        "lst = list(range(4,9,2))\n",
        "print(lst)"
      ],
      "metadata": {
        "id": "NgiKx_gX2NVi",
        "outputId": "1af45914-6a0c-4aaa-b950-5068e43666fc",
        "colab": {
          "base_uri": "https://localhost:8080/"
        }
      },
      "execution_count": null,
      "outputs": [
        {
          "output_type": "stream",
          "name": "stdout",
          "text": [
            "[4, 6, 8]\n"
          ]
        }
      ]
    },
    {
      "cell_type": "code",
      "source": [
        "#Creating a list using range funtion\n",
        "list1 = range(10)\n",
        "for i in list1:\n",
        "  print(i,end = ' ,')\n",
        "print()"
      ],
      "metadata": {
        "id": "LhkPkD--25Fd",
        "outputId": "87e6c0c9-699e-4886-af3f-efe2459d654b",
        "colab": {
          "base_uri": "https://localhost:8080/"
        }
      },
      "execution_count": null,
      "outputs": [
        {
          "output_type": "stream",
          "name": "stdout",
          "text": [
            "0 ,1 ,2 ,3 ,4 ,5 ,6 ,7 ,8 ,9 ,\n"
          ]
        }
      ]
    },
    {
      "cell_type": "code",
      "source": [
        "#list using while loop\n",
        "i = o\n",
        "while i<=len(list1):\n",
        "  print(list1(i))\n",
        "  i+=1"
      ],
      "metadata": {
        "id": "PD3iR9443TkN",
        "outputId": "65bc343b-1d54-4901-d3a6-2dad38020bca",
        "colab": {
          "base_uri": "https://localhost:8080/",
          "height": 193
        }
      },
      "execution_count": null,
      "outputs": [
        {
          "output_type": "error",
          "ename": "TypeError",
          "evalue": "'range' object is not callable",
          "traceback": [
            "\u001b[0;31m---------------------------------------------------------------------------\u001b[0m",
            "\u001b[0;31mTypeError\u001b[0m                                 Traceback (most recent call last)",
            "\u001b[0;32m<ipython-input-7-d3fe3e458944>\u001b[0m in \u001b[0;36m<cell line: 3>\u001b[0;34m()\u001b[0m\n\u001b[1;32m      2\u001b[0m \u001b[0mi\u001b[0m \u001b[0;34m=\u001b[0m \u001b[0mo\u001b[0m\u001b[0;34m\u001b[0m\u001b[0;34m\u001b[0m\u001b[0m\n\u001b[1;32m      3\u001b[0m \u001b[0;32mwhile\u001b[0m \u001b[0mi\u001b[0m\u001b[0;34m<=\u001b[0m\u001b[0mlen\u001b[0m\u001b[0;34m(\u001b[0m\u001b[0mlist1\u001b[0m\u001b[0;34m)\u001b[0m\u001b[0;34m:\u001b[0m\u001b[0;34m\u001b[0m\u001b[0;34m\u001b[0m\u001b[0m\n\u001b[0;32m----> 4\u001b[0;31m   \u001b[0mprint\u001b[0m\u001b[0;34m(\u001b[0m\u001b[0mlist1\u001b[0m\u001b[0;34m(\u001b[0m\u001b[0mi\u001b[0m\u001b[0;34m)\u001b[0m\u001b[0;34m)\u001b[0m\u001b[0;34m\u001b[0m\u001b[0;34m\u001b[0m\u001b[0m\n\u001b[0m\u001b[1;32m      5\u001b[0m   \u001b[0mi\u001b[0m\u001b[0;34m+=\u001b[0m\u001b[0;36m1\u001b[0m\u001b[0;34m\u001b[0m\u001b[0;34m\u001b[0m\u001b[0m\n",
            "\u001b[0;31mTypeError\u001b[0m: 'range' object is not callable"
          ]
        }
      ]
    },
    {
      "cell_type": "code",
      "source": [
        "# write a program to acess the list using while and for loop\n",
        "list1 = [10,20,30,40]\n",
        "print(\"using while loop\")\n",
        "i = 0\n",
        "while  i<len(list1):\n",
        "  print(list1[i])\n",
        "  i+=1\n",
        "\n",
        "print(\"using a for loop\")\n",
        "for i in range(0,len(list1)):\n",
        "  print(list1[i])\n"
      ],
      "metadata": {
        "id": "CJ0m8Nhz3gHX",
        "colab": {
          "base_uri": "https://localhost:8080/"
        },
        "outputId": "6324673a-b2e7-4660-d874-ab564fba8a0b"
      },
      "execution_count": null,
      "outputs": [
        {
          "output_type": "stream",
          "name": "stdout",
          "text": [
            "using while loop\n",
            "10\n",
            "20\n",
            "30\n",
            "40\n",
            "using a for loop\n",
            "10\n",
            "20\n",
            "30\n",
            "40\n"
          ]
        }
      ]
    },
    {
      "cell_type": "markdown",
      "source": [
        "# Functions in list :"
      ],
      "metadata": {
        "id": "CaSaSLak33Kh"
      }
    },
    {
      "cell_type": "code",
      "source": [
        "lst = list(range(0,5))\n",
        "print(lst)"
      ],
      "metadata": {
        "colab": {
          "base_uri": "https://localhost:8080/"
        },
        "id": "lkvIaqiX310J",
        "outputId": "989ca663-114a-442b-9494-63248b47406e"
      },
      "execution_count": null,
      "outputs": [
        {
          "output_type": "stream",
          "name": "stdout",
          "text": [
            "[0, 1, 2, 3, 4]\n"
          ]
        }
      ]
    },
    {
      "cell_type": "code",
      "source": [
        "#append\n",
        "lst.append(9)\n",
        "print(lst)\n",
        "#update\n",
        "lst[1] = 8\n",
        "print(lst)\n",
        "lst[1:3] = 10,\n",
        "#delete\n",
        "del lst[1]\n",
        "print(1)\n",
        "#lst.remove()\n",
        "print(lst)\n",
        "lst.reverse()\n",
        "print(lst)\n"
      ],
      "metadata": {
        "colab": {
          "base_uri": "https://localhost:8080/"
        },
        "id": "6Nw46zWc4F8x",
        "outputId": "d62b75ef-81ce-446e-928f-6e796bce86ab"
      },
      "execution_count": null,
      "outputs": [
        {
          "output_type": "stream",
          "name": "stdout",
          "text": [
            "[0, 9]\n",
            "[0, 8]\n",
            "1\n",
            "[0]\n",
            "[0]\n"
          ]
        }
      ]
    },
    {
      "cell_type": "code",
      "source": [
        "#revrese the list using while loop\n",
        "lst=list(range(1,5))\n",
        "while i>=0: # i represents intinally 4.\n",
        " print(lst[i])\n",
        " i-=1"
      ],
      "metadata": {
        "colab": {
          "base_uri": "https://localhost:8080/"
        },
        "id": "7kdzZ-NS_Zmb",
        "outputId": "97b96c40-7dc6-417c-caf4-d702fb56613a"
      },
      "execution_count": null,
      "outputs": [
        {
          "output_type": "stream",
          "name": "stdout",
          "text": [
            "4\n",
            "3\n",
            "2\n",
            "1\n"
          ]
        }
      ]
    },
    {
      "cell_type": "code",
      "source": [
        "#program to display the elements of list in reverse order\n",
        "lst = ['sunday','monday','tuesday','wednesday','thrusday']\n",
        "print(\"In reverse order\")\n",
        "i = -1\n",
        "while i>=-len(lst):\n",
        "  print(lst[i])\n",
        "  i-=1\n",
        "\n",
        "print('\\nIn reverse order')\n",
        "i = len(lst) - 1\n",
        "while i>=0:\n",
        "  print(lst[i])\n",
        "  i-=1"
      ],
      "metadata": {
        "colab": {
          "base_uri": "https://localhost:8080/"
        },
        "id": "CuZW1SEiAQyF",
        "outputId": "f61efbae-f738-4c12-b3fc-b7e4a1b8572a"
      },
      "execution_count": null,
      "outputs": [
        {
          "output_type": "stream",
          "name": "stdout",
          "text": [
            "In reverse order\n",
            "thrusday\n",
            "wednesday\n",
            "tuesday\n",
            "monday\n",
            "sunday\n",
            "\n",
            "In reverse order\n",
            "thrusday\n",
            "wednesday\n",
            "tuesday\n",
            "monday\n",
            "sunday\n"
          ]
        }
      ]
    },
    {
      "cell_type": "code",
      "source": [
        "#concatention of list\n",
        "x = list(range(1,5))\n",
        "y = list(range(5,10))\n",
        "sum = x + y\n",
        "print(sum)"
      ],
      "metadata": {
        "colab": {
          "base_uri": "https://localhost:8080/"
        },
        "id": "xhUuVxi0BmMG",
        "outputId": "3fdfe636-c29a-4cd8-e814-928a78164f40"
      },
      "execution_count": null,
      "outputs": [
        {
          "output_type": "stream",
          "name": "stdout",
          "text": [
            "[1, 2, 3, 4, 5, 6, 7, 8, 9]\n"
          ]
        }
      ]
    },
    {
      "cell_type": "code",
      "source": [
        "#repetion\n",
        "print(x*2)"
      ],
      "metadata": {
        "colab": {
          "base_uri": "https://localhost:8080/"
        },
        "id": "tJyzOc7HBqyT",
        "outputId": "cedaf1d6-56b2-465b-ce73-8f86f4e084da"
      },
      "execution_count": null,
      "outputs": [
        {
          "output_type": "stream",
          "name": "stdout",
          "text": [
            "[1, 2, 3, 4, 1, 2, 3, 4]\n"
          ]
        }
      ]
    },
    {
      "cell_type": "code",
      "source": [
        "#member ship in list\n",
        "x = list(range(1,5))\n",
        "a = 4\n",
        "print(a in x) # check if a is in list or not\n",
        "# or\n",
        "print( a not in x ) # check if a is in not in lst"
      ],
      "metadata": {
        "colab": {
          "base_uri": "https://localhost:8080/"
        },
        "id": "ydbWLjVsCFgN",
        "outputId": "6bb02035-af55-43ee-859c-293d5baabb90"
      },
      "execution_count": null,
      "outputs": [
        {
          "output_type": "stream",
          "name": "stdout",
          "text": [
            "True\n",
            "False\n"
          ]
        }
      ]
    },
    {
      "cell_type": "code",
      "source": [
        "#coloning\n",
        "x = list(range(1,5))\n",
        "y= x\n",
        "print(y)\n"
      ],
      "metadata": {
        "colab": {
          "base_uri": "https://localhost:8080/"
        },
        "id": "T__6ctGxDKae",
        "outputId": "3670165b-281c-4269-93b5-7d9085cfdf9f"
      },
      "execution_count": null,
      "outputs": [
        {
          "output_type": "stream",
          "name": "stdout",
          "text": [
            "[1, 2, 3, 4]\n"
          ]
        }
      ]
    },
    {
      "cell_type": "code",
      "source": [
        "num = list(range(10,60,10))\n",
        "print(num)\n",
        "num.append(60)\n",
        "print(num)\n",
        "num[3] = 80\n",
        "n = len(num)\n",
        "print(n)\n",
        "num.insert(2,90)\n",
        "print(num)\n",
        "num1 = num.copy()\n",
        "print(num1)\n",
        "num.extend(num1)\n",
        "print(num)\n",
        "n = num.count(50)\n",
        "print(n)\n",
        "num.remove(80)\n",
        "print(num)\n",
        "num.pop()\n",
        "print(num)\n",
        "num.sort()\n",
        "print(num)\n",
        "n1 = max(num)\n",
        "n2 = min(num)\n",
        "print(n1,n2)\n",
        "num.reverse()\n",
        "print(num)\n",
        "num.clear()\n",
        "print(num)\n"
      ],
      "metadata": {
        "colab": {
          "base_uri": "https://localhost:8080/"
        },
        "id": "9WXNp5FHDQYd",
        "outputId": "66d28150-ac21-410c-fbbd-b1c9d4084805"
      },
      "execution_count": null,
      "outputs": [
        {
          "output_type": "stream",
          "name": "stdout",
          "text": [
            "[10, 20, 30, 40, 50]\n",
            "[10, 20, 30, 40, 50, 60]\n",
            "6\n",
            "[10, 20, 90, 30, 80, 50, 60]\n",
            "[10, 20, 90, 30, 80, 50, 60]\n",
            "[10, 20, 90, 30, 80, 50, 60, 10, 20, 90, 30, 80, 50, 60]\n",
            "2\n",
            "[10, 20, 90, 30, 50, 60, 10, 20, 90, 30, 80, 50, 60]\n",
            "[10, 20, 90, 30, 50, 60, 10, 20, 90, 30, 80, 50]\n",
            "[10, 10, 20, 20, 30, 30, 50, 50, 60, 80, 90, 90]\n",
            "90 10\n",
            "[90, 90, 80, 60, 50, 50, 30, 30, 20, 20, 10, 10]\n",
            "[]\n"
          ]
        }
      ]
    },
    {
      "cell_type": "code",
      "source": [
        "# a python program to find the maximum and minimum number\n",
        "x = []\n",
        "print(\"how many elements ?\", end  = ' ')\n",
        "n = int(input())\n",
        "for i in range(n):\n",
        "  print('enter elemnt :', end = ' ' )\n",
        "  x.append(int(input()))\n",
        "print(\"the list is \",x)\n",
        "big = x[0]\n",
        "small = x[0]\n",
        "for i in range(1,n):\n",
        "  if x[i]>big:\n",
        "    big = x[i]\n",
        "  if x[i]<small:\n",
        "    small = x[i]\n",
        "print('maximum is',big)\n",
        "print('minimun is ',small)"
      ],
      "metadata": {
        "colab": {
          "base_uri": "https://localhost:8080/"
        },
        "id": "OSszB1uGFbng",
        "outputId": "5a569e00-79cc-4178-cf05-76e73a23c180"
      },
      "execution_count": null,
      "outputs": [
        {
          "output_type": "stream",
          "name": "stdout",
          "text": [
            "how many elements ? 5\n",
            "enter elemnt : 12\n",
            "enter elemnt : 23\n",
            "enter elemnt : 34\n",
            "enter elemnt : 45\n",
            "enter elemnt : 56\n",
            "the list is  [12, 23, 34, 45, 56]\n",
            "maximum is 56\n",
            "minimun is  12\n"
          ]
        }
      ]
    },
    {
      "cell_type": "markdown",
      "source": [
        "RANDOM MODULE\n"
      ],
      "metadata": {
        "id": "0utKoFVOWylN"
      }
    },
    {
      "cell_type": "code",
      "source": [
        "import random\n",
        "a = random.randint(1,7)\n",
        "print(a)\n",
        "b = random.randrange(1,5)\n",
        "print(b)\n",
        "c = random.random()\n",
        "print(c)\n",
        "d = random.uniform(1,3)\n",
        "print(d)\n",
        "list1 = [1,2,3,4,5,6]\n",
        "e = random.choice(list1)\n",
        "print(e)\n",
        "list1 = [12,23,45,56,67]\n",
        "f = random.shuffle(list1)\n",
        "print(list1)"
      ],
      "metadata": {
        "colab": {
          "base_uri": "https://localhost:8080/"
        },
        "id": "pQIEqhC4WJT8",
        "outputId": "7626be09-27ac-4afb-b5a9-59706f00e6a5"
      },
      "execution_count": null,
      "outputs": [
        {
          "output_type": "stream",
          "name": "stdout",
          "text": [
            "1\n",
            "3\n",
            "0.1549286548834765\n",
            "1.0254777222660383\n",
            "1\n",
            "[67, 12, 56, 45, 23]\n"
          ]
        }
      ]
    },
    {
      "cell_type": "code",
      "source": [
        "#virtual toes program\n",
        "import random\n",
        "side = random.randint(0,1)\n",
        "print(side)\n",
        "if side == 1:\n",
        "  print(\"it is head\")\n",
        "else:\n",
        "  print(\"it is tail\")\n"
      ],
      "metadata": {
        "colab": {
          "base_uri": "https://localhost:8080/"
        },
        "id": "K5hQacJrXKjF",
        "outputId": "299fd5c3-56bf-4507-aeb3-205b450a5c0e"
      },
      "execution_count": null,
      "outputs": [
        {
          "output_type": "stream",
          "name": "stdout",
          "text": [
            "1\n",
            "it is head\n"
          ]
        }
      ]
    },
    {
      "cell_type": "code",
      "source": [
        "#write a program to whch will select a random name from a list who will pay the bill of the restutrant[BY ME]\n",
        "import random\n",
        "a,b,c,d = [x for x in input(\"enter any names:\").split(\",\")]\n",
        "names = [a,b,c,d]\n",
        "n = len(names)\n",
        "print(names)\n",
        "choice = random.randrange(0,n)\n",
        "print(choice)\n",
        "if choice == 0:\n",
        "  print(\"vinay will pay the bill\")\n",
        "elif choice == 1:\n",
        "  print(\"riya will pay the bill\")\n",
        "elif choice == 2:\n",
        "  print(\"niku will pay the bill\")\n",
        "else :\n",
        "  print(\"arnav will pay the bill\")\n",
        "\n"
      ],
      "metadata": {
        "colab": {
          "base_uri": "https://localhost:8080/"
        },
        "id": "yn0oJJy6aUk-",
        "outputId": "402e1dd0-ee71-4f40-be27-80ceaed22304"
      },
      "execution_count": null,
      "outputs": [
        {
          "output_type": "stream",
          "name": "stdout",
          "text": [
            "enter any names:vinay,riya,arnav,niku\n",
            "['vinay', 'riya', 'arnav', 'niku']\n",
            "2\n",
            "niku will pay the bill\n"
          ]
        }
      ]
    },
    {
      "cell_type": "code",
      "source": [
        "# BY THE MADAM\n",
        "import random\n",
        "names = input(\"enter a names with seperated with coma :\")\n",
        "names_list = names.split(\",\")\n",
        "print(names_list)\n",
        "#n = len(names_list)\n",
        "#random_selected = random.randint(1,n-1)\n",
        "#print(random_selected)\n",
        "person_selected = random.choice(names_list)\n",
        "print(f'{person_selected} will pay the bill')"
      ],
      "metadata": {
        "colab": {
          "base_uri": "https://localhost:8080/"
        },
        "id": "3gSo8d5WcvpC",
        "outputId": "5dc08f26-15e4-44d0-c47f-dae5937266f2"
      },
      "execution_count": null,
      "outputs": [
        {
          "output_type": "stream",
          "name": "stdout",
          "text": [
            "enter a names with seperated with coma :vinay,riya,arnav,niku\n",
            "['vinay', 'riya', 'arnav', 'niku']\n",
            "vinay will pay the bill\n"
          ]
        }
      ]
    },
    {
      "cell_type": "code",
      "source": [],
      "metadata": {
        "id": "06QHjk0NOFjm"
      },
      "execution_count": null,
      "outputs": []
    },
    {
      "cell_type": "code",
      "source": [
        "#write a program to create a list with emoplyes data and then retreive a particular emp detalis\n",
        "emp = []\n",
        "n = int(input(\"how many empolyes ? \"))\n",
        "for i in range(n):\n",
        "  print(\"enter id :\",end = \" \")\n",
        "  emp.append(int(input()))\n",
        "  print('enter a name :', end='')\n",
        "  emp.append(input())\n",
        "  print('enter salary :')\n",
        "  emp.append(float(input()))\n",
        "print('the list is created with employes data')\n",
        "id = int(input('enter employes  id:'))\n",
        "for i in range(len(emp)):\n",
        "  if id==emp[i]:\n",
        "     print(f'Id = {emp[i]},Name = {emp[i+1]},salary = {emp[i+2]}')\n",
        "     break"
      ],
      "metadata": {
        "outputId": "dd8f1c2a-fac8-4966-82e5-75d3b18aa144",
        "colab": {
          "base_uri": "https://localhost:8080/"
        },
        "id": "H1qRqj9mOF9y"
      },
      "execution_count": null,
      "outputs": [
        {
          "output_type": "stream",
          "name": "stdout",
          "text": [
            "how many empolyes ? 5\n",
            "enter id : 12345\n",
            "enter a name :vinay \n",
            "enter salary :\n",
            "150000\n",
            "enter id : 374674\n",
            "enter a name :niku\n",
            "enter salary :\n",
            "627266\n",
            "enter id : 122323\n",
            "enter a name :23837\n",
            "enter salary :\n",
            "293\n",
            "enter id : 732337\n",
            "enter a name :sam\n",
            "enter salary :\n",
            "938273\n",
            "enter id : 827387\n",
            "enter a name :om\n",
            "enter salary :\n",
            "83992\n",
            "the list is created with employes data\n",
            "enter employes  id:12345\n",
            "Id = 12345,Name = vinay ,salary = 150000.0\n"
          ]
        }
      ]
    },
    {
      "cell_type": "markdown",
      "source": [
        "NESTED LIST\n"
      ],
      "metadata": {
        "id": "5t1K7cBMJb-3"
      }
    },
    {
      "cell_type": "code",
      "source": [
        "lst = [12,23,35,[12,23,34],78,93]\n",
        "#n = len(lst)\n",
        "print(lst[3])\n",
        "print(lst[3][2])\n",
        "print(lst[3][:])\n",
        "print(lst[3][0:2])\n",
        "print(lst[3][::2])"
      ],
      "metadata": {
        "colab": {
          "base_uri": "https://localhost:8080/"
        },
        "id": "XZ6MZ2J9hwZO",
        "outputId": "c05c1e1b-9c6a-4053-a848-5e5210363a86"
      },
      "execution_count": null,
      "outputs": [
        {
          "output_type": "stream",
          "name": "stdout",
          "text": [
            "[12, 23, 34]\n",
            "34\n",
            "[12, 23, 34]\n",
            "[12, 23]\n",
            "[12, 34]\n"
          ]
        }
      ]
    },
    {
      "cell_type": "markdown",
      "source": [
        "matrix list"
      ],
      "metadata": {
        "id": "xoV6HM5RZgkj"
      }
    },
    {
      "cell_type": "code",
      "source": [
        "#exercise\n",
        "row1 = ['😊','😊','😊']\n",
        "row2 = ['😊','😊','😊']\n",
        "row3 = ['😊','😊','😊']\n",
        "matrix = [row1,row2,row3]\n",
        "print(f'{row1}\\n{row2}\\n{row3}')\n",
        "postion = (input(\"where to a hide a money :\"))\n",
        "row_number = int(postion[0])\n",
        "coloumb_number = int(postion[1])\n",
        "row_selected = matrix[row_number-1]\n",
        "coloumb_selected = matrix[coloumb_number-1]\n",
        "row_selected[coloumb_number-1] = 'x'\n",
        "print(f'{row1}\\n{row2}\\n{row3}')\n",
        "\n",
        "\n"
      ],
      "metadata": {
        "id": "gpaskykjJw3R",
        "outputId": "040956d9-b5d0-465e-a8f7-dc098ce65ea5",
        "colab": {
          "base_uri": "https://localhost:8080/"
        }
      },
      "execution_count": null,
      "outputs": [
        {
          "output_type": "stream",
          "name": "stdout",
          "text": [
            "['😊', '😊', '😊']\n",
            "['😊', '😊', '😊']\n",
            "['😊', '😊', '😊']\n",
            "where to a hide a money :32\n",
            "['😊', '😊', '😊']\n",
            "['😊', '😊', '😊']\n",
            "['😊', 'x', '😊']\n"
          ]
        }
      ]
    },
    {
      "cell_type": "code",
      "source": [
        "#list comprehnsion\n",
        "#write a program to create a list with squares of integers from 1 to 10\n",
        "squares = []\n",
        "for x in range(1,11):\n",
        "  squares.append(x**2)\n",
        "print(squares)"
      ],
      "metadata": {
        "id": "1bwztRfpdGC8",
        "colab": {
          "base_uri": "https://localhost:8080/"
        },
        "outputId": "e3587548-8526-4757-8988-8b75629552a4"
      },
      "execution_count": null,
      "outputs": [
        {
          "output_type": "stream",
          "name": "stdout",
          "text": [
            "[1, 4, 9, 16, 25, 36, 49, 64, 81, 100]\n"
          ]
        }
      ]
    },
    {
      "cell_type": "code",
      "source": [
        "squares = [x**2 for x in range(1,11)]"
      ],
      "metadata": {
        "id": "GiypJYi9N8lP"
      },
      "execution_count": null,
      "outputs": []
    },
    {
      "cell_type": "code",
      "source": [
        "#rock,scissors and paper game\n",
        "import random\n",
        "user_choice = int(input(\"enter your choice : type 0 for rock,1 for paper , 2 for scissors .\"))\n",
        "comp_choice = random.randint(0,2)\n",
        "if user_choice>=3 or user_choice<0:\n",
        "  print('You entered a invalid number.')\n",
        "else:\n",
        "   print(\"computer Choice :\")\n",
        "   print(comp_choice)\n",
        "   if comp_choice == user_choice :\n",
        "    print(\"It's a draw\")\n",
        "   elif comp_choice == 0 and user_choice == 2:\n",
        "    print(\"You lose\")\n",
        "   elif comp_choice == 2 and user_choice == 0:\n",
        "    print('You win')\n",
        "   elif comp_choice > user_choice:\n",
        "    print(\"You lose\")\n",
        "   elif comp_choice < user_choice:\n",
        "    print('You win')\n",
        "\n"
      ],
      "metadata": {
        "colab": {
          "base_uri": "https://localhost:8080/"
        },
        "id": "tcaYGRQ1Qg4B",
        "outputId": "36f6fbe0-e057-4f3d-84cb-c87da96250bf"
      },
      "execution_count": null,
      "outputs": [
        {
          "output_type": "stream",
          "name": "stdout",
          "text": [
            "enter your choice : type 0 for rock,1 for paper , 2 for scissors .2\n",
            "computer Choice :\n",
            "1\n",
            "You win\n"
          ]
        }
      ]
    },
    {
      "cell_type": "markdown",
      "source": [
        "#tuple\n"
      ],
      "metadata": {
        "id": "elQ5ivDncpOa"
      }
    },
    {
      "cell_type": "code",
      "source": [
        "tuple1 = (1,2,3,4)\n",
        "tup2 = ('vinay',8,8.9)\n",
        "print(type(tup2),'\\n',tup2)"
      ],
      "metadata": {
        "colab": {
          "base_uri": "https://localhost:8080/"
        },
        "id": "q0QlR4FdWLBG",
        "outputId": "8d013889-dbcf-4615-c17c-6d31d229f471"
      },
      "execution_count": null,
      "outputs": [
        {
          "output_type": "stream",
          "name": "stdout",
          "text": [
            "<class 'tuple'> \n",
            " ('vinay', 8, 8.9)\n"
          ]
        }
      ]
    },
    {
      "cell_type": "code",
      "source": [
        "#convert list to tuple\n",
        "list1 = list(range(0,4))\n",
        "tpl = tuple(list1)\n",
        "print(list1,'\\n',tpl)"
      ],
      "metadata": {
        "colab": {
          "base_uri": "https://localhost:8080/"
        },
        "id": "9xm1A0-qujSE",
        "outputId": "0490f8ea-5607-4cd2-8f0c-52b508e465e5"
      },
      "execution_count": null,
      "outputs": [
        {
          "output_type": "stream",
          "name": "stdout",
          "text": [
            "[0, 1, 2, 3] \n",
            " (0, 1, 2, 3)\n"
          ]
        }
      ]
    },
    {
      "cell_type": "code",
      "source": [
        "print(tpl)\n",
        "print(tpl[0])\n",
        "print(tpl[0:2])\n",
        "print(tpl[0::2])\n",
        "print(tpl[::-1])"
      ],
      "metadata": {
        "colab": {
          "base_uri": "https://localhost:8080/"
        },
        "id": "uey-mZIuvxzI",
        "outputId": "7bc35a52-0e86-4734-bc1d-9ea72e10ed75"
      },
      "execution_count": null,
      "outputs": [
        {
          "output_type": "stream",
          "name": "stdout",
          "text": [
            "(0, 1, 2, 3)\n",
            "0\n",
            "(0, 1)\n",
            "(0, 2)\n",
            "(3, 2, 1, 0)\n"
          ]
        }
      ]
    },
    {
      "cell_type": "code",
      "source": [
        "#funtions in tuple\n",
        "tpl = tuple(range(0,8,2))\n",
        "print(tpl)\n",
        "length = len(tpl)\n",
        "print(length)\n",
        "#minimun = min(tpl)\n",
        "#print(minimum)\n",
        "#maximum = max(tpl)\n",
        "#print(maximum)\n",
        "tpl.count(4)\n",
        "print(tpl)\n",
        "tpl.index(6)\n",
        "print(tpl)\n",
        "#tpl.sorted(tpl)\n",
        "#print(tpl)"
      ],
      "metadata": {
        "colab": {
          "base_uri": "https://localhost:8080/"
        },
        "id": "zfJsk30WvDiR",
        "outputId": "325b48ef-0599-4a5d-be0b-abb874610746"
      },
      "execution_count": null,
      "outputs": [
        {
          "output_type": "stream",
          "name": "stdout",
          "text": [
            "(0, 2, 4, 6)\n",
            "4\n",
            "(0, 2, 4, 6)\n",
            "(0, 2, 4, 6)\n"
          ]
        }
      ]
    },
    {
      "cell_type": "code",
      "source": [
        "#program to evalute the sum of first occurence of the element\n",
        "num = eval(input(\"enter a tuple in ()\"))\n",
        "n = len(num)\n",
        "print(num)\n",
        "sum = 0\n",
        "for i in range(n):\n",
        "   sum=sum+num[i]\n",
        "print(f'sum of the number is {sum}')\n",
        "print(f'average of the numbers is {sum/n}')"
      ],
      "metadata": {
        "colab": {
          "base_uri": "https://localhost:8080/"
        },
        "id": "aTPLk5_RygYA",
        "outputId": "0745ff87-0d21-40ba-81de-9106db48d3a5"
      },
      "execution_count": null,
      "outputs": [
        {
          "output_type": "stream",
          "name": "stdout",
          "text": [
            "enter a tuple in ()12,23,34,4,5,56\n",
            "(12, 23, 34, 4, 5, 56)\n",
            "sum of the number is 134\n",
            "average of the numbers is 22.333333333333332\n"
          ]
        }
      ]
    },
    {
      "cell_type": "markdown",
      "source": [
        "#PASSWOED GENERATOR PROGRAM\n"
      ],
      "metadata": {
        "id": "oNOskKmXG-l2"
      }
    },
    {
      "cell_type": "code",
      "source": [
        "import random\n",
        "letters = ['a','b','c','d','e','f','g','h','i','j','k','l','m','n','o','p','q','r','s','t','u','v','w','x','y','z','A','B','C','D','E','F',\n",
        "           'G','H','I','J','K','L','M','N','O','P','Q','R','S','T','U','V','W','X','Y','Z']\n",
        "numbers = ['0','1','2','3','4','5','6','7','8','9']\n",
        "symols = ['!','@','#','$','$','%','^','&','*','(',')']\n",
        "print(\"Welcome To Password Generator\")\n",
        "n_letters = int(input(\"how many letters you want to print?\\n\"))\n",
        "n_numbers = int(input(\"how many numbers you want to print?\\n\"))\n",
        "n_symbols = int(input(\"how many symbols you want to print?\\n\"))\n",
        "password= []\n",
        "for i in range(1,n_letters+1):\n",
        "  char = random.choice(letters)\n",
        "  password += char\n",
        "#print(password)\n",
        "for i in range(1,n_numbers+1):\n",
        "  char = random.choice(numbers)\n",
        "  password += char\n",
        "#print(password)\n",
        "for i  in range(1,n_symbols):\n",
        "  char = random.choice(symols)\n",
        "  password += char\n",
        "#print(password)\n",
        "random.shuffle(password)\n",
        "print(password)\n",
        "password_final = \"\"\n",
        "for char in password :\n",
        "  password_final+=char\n",
        "print(f'The generated password is {password_final}')\n"
      ],
      "metadata": {
        "id": "UGbOBzHjzpn-",
        "colab": {
          "base_uri": "https://localhost:8080/"
        },
        "outputId": "c5416082-b189-4aad-8eaa-20fb0e58c88c"
      },
      "execution_count": null,
      "outputs": [
        {
          "output_type": "stream",
          "name": "stdout",
          "text": [
            "Welcome To Password Generator\n",
            "how many letters you want to print?\n",
            "5\n",
            "how many numbers you want to print?\n",
            "2\n",
            "how many symbols you want to print?\n",
            "2\n",
            "['9', 'X', 'r', '@', 'N', '0', 'Z', 'b']\n",
            "The generated password is 9Xr@N0Zb\n"
          ]
        }
      ]
    },
    {
      "cell_type": "markdown",
      "source": [
        "# Hangman game project\n"
      ],
      "metadata": {
        "id": "6V2q6S72dHVT"
      }
    },
    {
      "cell_type": "code",
      "source": [
        "import random\n",
        "print(\"Let's Start Game\")\n",
        "lives = 6\n",
        "words = ['apple','beautiful','happy','sad']\n",
        "choosen_word = random.choice(words)\n",
        "#print(choosen_word)\n",
        "blank = []\n",
        "for i in range(len(choosen_word)) : # 0 1 2 3 4 5 #apple\n",
        "  blank += '_'\n",
        "print(blank)\n",
        "game_over = False\n",
        "while not game_over:\n",
        "  guessed_letter = input(\"guess a letter : b\").lower() #p_ _pp_ _\n",
        "  for position in range(len(choosen_word)): #0 1 2 3 4\n",
        "      letter = choosen_word[position]\n",
        "      if letter==guessed_letter :\n",
        "        blank[position] = guessed_letter\n",
        "  print(blank)\n",
        "  if(guessed_letter not in choosen_word):\n",
        "     lives-=1\n",
        "     if lives == 6:\n",
        "      print(\"________      \")\n",
        "      print(\"|      |      \")\n",
        "      print(\"|             \")\n",
        "      print(\"|             \")\n",
        "      print(\"|             \")\n",
        "      print(\"|             \")\n",
        "     elif lives == 5:\n",
        "      print(\"________      \")\n",
        "      print(\"|      |      \")\n",
        "      print(\"|      0      \")\n",
        "      print(\"|             \")\n",
        "      print(\"|             \")\n",
        "      print(\"|             \")\n",
        "     elif lives == 4:\n",
        "      print(\"________      \")\n",
        "      print(\"|      |      \")\n",
        "      print(\"|      0      \")\n",
        "      print(\"|     /       \")\n",
        "      print(\"|             \")\n",
        "      print(\"|             \")\n",
        "     elif lives == 3:\n",
        "      print(\"________      \")\n",
        "      print(\"|      |      \")\n",
        "      print(\"|      0      \")\n",
        "      print(\"|     /|      \")\n",
        "      print(\"|             \")\n",
        "      print(\"|             \")\n",
        "     elif lives == 2:\n",
        "      print(\"________      \")\n",
        "      print(\"|      |      \")\n",
        "      print(\"|      0      \")\n",
        "      print(\"|     /|\\     \")\n",
        "      print(\"|             \")\n",
        "      print(\"|             \")\n",
        "     elif lives == 1:\n",
        "      print(\"________      \")\n",
        "      print(\"|      |      \")\n",
        "      print(\"|      0      \")\n",
        "      print(\"|     /|\\     \")\n",
        "      print(\"|     /       \")\n",
        "      print(\"|             \")\n",
        "     else:\n",
        "      print(\"________      \")\n",
        "      print(\"|      |      \")\n",
        "      print(\"|      0      \")\n",
        "      print(\"|     /|\\     \")\n",
        "      print(\"|     / \\     \")\n",
        "      print(\"|             \")\n",
        "     if lives == 0:\n",
        "      game_over = True\n",
        "      print(\"you lose !!\")\n",
        "     if '_' not in blank:\n",
        "      game_over = True\n",
        "      print(\"you win\")\n"
      ],
      "metadata": {
        "id": "uRFv4_ZjQT-t",
        "outputId": "dd87418e-ba76-4917-8d80-bc738041cd48",
        "colab": {
          "base_uri": "https://localhost:8080/"
        }
      },
      "execution_count": null,
      "outputs": [
        {
          "output_type": "stream",
          "name": "stdout",
          "text": [
            "Let's Start Game\n",
            "['_', '_', '_', '_', '_', '_', '_', '_', '_']\n",
            "guess a letter : ba\n",
            "['_', '_', 'a', '_', '_', '_', '_', '_', '_']\n",
            "guess a letter : bz\n",
            "['_', '_', 'a', '_', '_', '_', '_', '_', '_']\n",
            "________      \n",
            "|      |      \n",
            "|      0      \n",
            "|             \n",
            "|             \n",
            "|             \n",
            "guess a letter : bq\n",
            "['_', '_', 'a', '_', '_', '_', '_', '_', '_']\n",
            "________      \n",
            "|      |      \n",
            "|      0      \n",
            "|     /       \n",
            "|             \n",
            "|             \n",
            "guess a letter : bz\n",
            "['_', '_', 'a', '_', '_', '_', '_', '_', '_']\n",
            "________      \n",
            "|      |      \n",
            "|      0      \n",
            "|     /|      \n",
            "|             \n",
            "|             \n",
            "guess a letter : bp\n",
            "['_', '_', 'a', '_', '_', '_', '_', '_', '_']\n",
            "________      \n",
            "|      |      \n",
            "|      0      \n",
            "|     /|\\     \n",
            "|             \n",
            "|             \n",
            "guess a letter : bq\n",
            "['_', '_', 'a', '_', '_', '_', '_', '_', '_']\n",
            "________      \n",
            "|      |      \n",
            "|      0      \n",
            "|     /|\\     \n",
            "|     /       \n",
            "|             \n",
            "guess a letter : bm\n",
            "['_', '_', 'a', '_', '_', '_', '_', '_', '_']\n",
            "________      \n",
            "|      |      \n",
            "|      0      \n",
            "|     /|\\     \n",
            "|     / \\     \n",
            "|             \n",
            "you lose !!\n"
          ]
        }
      ]
    },
    {
      "cell_type": "markdown",
      "source": [
        "#methods in set"
      ],
      "metadata": {
        "id": "grjTCSOEMufV"
      }
    },
    {
      "cell_type": "code",
      "source": [
        "s = {2, 4, 2, 6}\n",
        "print(s)\n",
        "\n",
        "info = {\"Carla\", 19, False, 5.9, 19}\n",
        "print(info)\n",
        "\n",
        "harry = set()\n",
        "print(type(harry))\n",
        "\n",
        "for value in info:\n",
        "  print(value)\n",
        "#union\n",
        "cities = {\"Tokyo\", \"Madrid\", \"Berlin\", \"Delhi\"}\n",
        "cities2 = {\"Tokyo\", \"Seoul\", \"Kabul\", \"Madrid\"}\n",
        "cities3 = cities.union(cities2)\n",
        "print(cities3)\n",
        "#intersection\n",
        "cities = {\"Tokyo\", \"Madrid\", \"Berlin\", \"Delhi\"}\n",
        "cities2 = {\"Tokyo\", \"Seoul\", \"Kabul\", \"Madrid\"}\n",
        "cities.update(cities2)\n",
        "print(cities)\n",
        "#sysmettric_difference\n",
        "cities = {\"Tokyo\", \"Madrid\", \"Berlin\", \"Delhi\"}\n",
        "cities2 = {\"Tokyo\", \"Seoul\", \"Kabul\", \"Madrid\"}\n",
        "cities3 = cities.symmetric_difference(cities2)\n",
        "print(cities3)\n",
        "#symmetric_difference_update()\n",
        "cities = {\"Tokyo\", \"Madrid\", \"Berlin\", \"Delhi\"}\n",
        "cities2 = {\"Tokyo\", \"Seoul\", \"Kabul\", \"Madrid\"}\n",
        "cities.symmetric_difference_update(cities2)\n",
        "print(cities)\n",
        "#diffrence and difference update\n",
        "cities = {\"Tokyo\", \"Madrid\", \"Berlin\", \"Delhi\"}\n",
        "cities2 = {\"Seoul\", \"Kabul\", \"Delhi\"}\n",
        "cities3 = cities.difference(cities2)\n",
        "print(cities3)\n",
        "cities = {\"Tokyo\", \"Madrid\", \"Berlin\", \"Delhi\"}\n",
        "cities2 = {\"Seoul\", \"Kabul\", \"Delhi\"}\n",
        "print(cities.difference(cities2))\n",
        "#isdisjoint()\n",
        "cities = {\"Tokyo\", \"Madrid\", \"Berlin\", \"Delhi\"}\n",
        "cities2 = {\"Tokyo\", \"Seoul\", \"Kabul\", \"Madrid\"}\n",
        "print(cities.isdisjoint(cities2))\n",
        "#issuperset():\n",
        "cities = {\"Tokyo\", \"Madrid\", \"Berlin\", \"Delhi\"}\n",
        "cities2 = {\"Seoul\", \"Kabul\"}\n",
        "print(cities.issuperset(cities2))\n",
        "cities3 = {\"Seoul\", \"Madrid\",\"Kabul\"}\n",
        "print(cities.issuperset(cities3))\n",
        "#issubbet\n",
        "cities = {\"Tokyo\", \"Madrid\", \"Berlin\", \"Delhi\"}\n",
        "cities2 = {\"Delhi\", \"Madrid\"}\n",
        "print(cities2.issubset(cities))\n",
        "cities = {\"Tokyo\", \"Madrid\", \"Berlin\", \"Delhi\"}\n",
        "cities2 = {\"Delhi\", \"Madrid\"}\n",
        "print(cities2.issubset(cities))\n",
        "#add\n",
        "cities = {\"Tokyo\", \"Madrid\", \"Berlin\", \"Delhi\"}\n",
        "cities.add(\"Helsinki\")\n",
        "print(cities)\n",
        "#update\n",
        "cities = {\"Tokyo\", \"Madrid\", \"Berlin\", \"Delhi\"}\n",
        "cities2 = {\"Helsinki\", \"Warsaw\", \"Seoul\"}\n",
        "cities.update(cities2)\n",
        "print(cities)\n",
        "#remove\n",
        "cities = {\"Tokyo\", \"Madrid\", \"Berlin\", \"Delhi\"}\n",
        "cities.remove(\"Tokyo\")\n",
        "print(cities)\n",
        "#pop\n",
        "cities = {\"Tokyo\", \"Madrid\", \"Berlin\", \"Delhi\"}\n",
        "item = cities.pop()\n",
        "print(cities)\n",
        "print(item)\n",
        "#clear\n",
        "cities = {\"Tokyo\", \"Madrid\", \"Berlin\", \"Delhi\"}\n",
        "cities.clear()\n",
        "print(cities)\n",
        "info = {'name':'Karan', 'age':19, 'eligible':True}\n",
        "print(info)\n",
        "#acessing single value\n",
        "print(info['name'])\n",
        "print(info.get('name'))\n",
        "\n",
        "#acessing multipe values\n",
        "info = {'name':'Karan', 'age':19, 'eligible':True}\n",
        "print(info.values())\n",
        "\n",
        "#acessing keys\n",
        "info = {'name':'Karan', 'age':19, 'eligible':True}\n",
        "print(info.items())\n",
        "\n"
      ],
      "metadata": {
        "id": "fTQe4WedMT43"
      },
      "execution_count": null,
      "outputs": []
    },
    {
      "cell_type": "markdown",
      "source": [
        "#dictionary\n",
        "\n"
      ],
      "metadata": {
        "id": "LZ8z2V0oUp9f"
      }
    },
    {
      "cell_type": "code",
      "source": [
        "info = {'name':'Karan', 'age':19, 'eligible':True}\n",
        "print(info)\n",
        "#acessing the values\n",
        "info = {'name':'Karan', 'age':19, 'eligible':True}\n",
        "print(info['name'])\n",
        "print(info.get('eligible'))\n",
        "#acessing multiple values\n",
        "info = {'name':'Karan', 'age':19, 'eligible':True}\n",
        "print(info.values())\n",
        "#acessing keys\n",
        "info = {'name':'Karan', 'age':19, 'eligible':True}\n",
        "print(info.keys())\n",
        "#acessing key pairs\n",
        "info = {'name':'Karan', 'age':19, 'eligible':True}\n",
        "print(info.items())"
      ],
      "metadata": {
        "colab": {
          "base_uri": "https://localhost:8080/"
        },
        "id": "1bL1ukEoUpX3",
        "outputId": "e2570177-bc59-4592-a73c-02c3258a8ba0"
      },
      "execution_count": null,
      "outputs": [
        {
          "output_type": "stream",
          "name": "stdout",
          "text": [
            "{'name': 'Karan', 'age': 19, 'eligible': True}\n",
            "Karan\n",
            "True\n",
            "dict_values(['Karan', 19, True])\n",
            "dict_keys(['name', 'age', 'eligible'])\n",
            "dict_items([('name', 'Karan'), ('age', 19), ('eligible', True)])\n"
          ]
        }
      ]
    },
    {
      "cell_type": "code",
      "source": [
        "info = {'name':'Karan', 'age':19, 'eligible':True}\n",
        "print(info)\n",
        "print(info.keys())\n",
        "print(info.values())\n",
        "\n",
        "for key in info.keys():\n",
        "   print(f\"The value corresponding to the key {key} is {info[key]}\")\n",
        "\n",
        "print(info.items())\n",
        "for key, value in info.items():\n",
        "  print(f\"The value corresponding to the key {key} is {value}\")"
      ],
      "metadata": {
        "colab": {
          "base_uri": "https://localhost:8080/"
        },
        "id": "pQn5fLetVNLH",
        "outputId": "b7778e9a-3caa-4046-90ec-48c99c1018c1"
      },
      "execution_count": null,
      "outputs": [
        {
          "output_type": "stream",
          "name": "stdout",
          "text": [
            "{'name': 'Karan', 'age': 19, 'eligible': True}\n",
            "dict_keys(['name', 'age', 'eligible'])\n",
            "dict_values(['Karan', 19, True])\n",
            "The value corresponding to the key name is Karan\n",
            "The value corresponding to the key age is 19\n",
            "The value corresponding to the key eligible is True\n",
            "dict_items([('name', 'Karan'), ('age', 19), ('eligible', True)])\n",
            "The value corresponding to the key name is Karan\n",
            "The value corresponding to the key age is 19\n",
            "The value corresponding to the key eligible is True\n"
          ]
        }
      ]
    },
    {
      "cell_type": "code",
      "source": [
        "#methods in dictionary\n",
        "d1 = {'name':'vinay','id':9866,'salary':98398}\n",
        "d2 = {'name1':'om','id1':9854,'salary1':98874}\n",
        "(d1.update({\"name\":'priem'}))\n",
        "print(d1)\n",
        "(d1.fromkeys(d1['name']))\n",
        "print(d1)\n",
        "(d1.pop('id'))\n",
        "print(d1)\n",
        "print(d1.popitem())\n",
        "print(d1)\n",
        "print(d1.setdefault('name'))\n",
        "print(d1.clear())\n",
        "\n"
      ],
      "metadata": {
        "colab": {
          "base_uri": "https://localhost:8080/"
        },
        "id": "CFgZa4t-XZHQ",
        "outputId": "8ddb4379-ef07-453d-c5fd-2898c639bc0e"
      },
      "execution_count": null,
      "outputs": [
        {
          "output_type": "stream",
          "name": "stdout",
          "text": [
            "{'name': 'priem', 'id': 9866, 'salary': 98398}\n",
            "{'name': 'priem', 'id': 9866, 'salary': 98398}\n",
            "{'name': 'priem', 'salary': 98398}\n",
            "('salary', 98398)\n",
            "{'name': 'priem'}\n",
            "priem\n",
            "None\n"
          ]
        }
      ]
    },
    {
      "cell_type": "code",
      "source": [
        "#for loop with else\n",
        "i = 0\n",
        "while i<7:\n",
        "  print(i)\n",
        "  i = i + 1\n",
        "  if i == 4:\n",
        "     break\n",
        "else:\n",
        "  print(\"Sorry no i\")\n",
        "\n",
        "for x in range(5):\n",
        "    print (\"iteration no {} in for loop\".format(x+1))\n",
        "else:\n",
        "    print (\"else block in loop\")\n",
        "print (\"Out of loop\")"
      ],
      "metadata": {
        "colab": {
          "base_uri": "https://localhost:8080/"
        },
        "id": "16ZxpC_HbKbY",
        "outputId": "bfba81c1-4d2c-41d6-d73c-7f96d13b01c8"
      },
      "execution_count": null,
      "outputs": [
        {
          "output_type": "stream",
          "name": "stdout",
          "text": [
            "0\n",
            "1\n",
            "2\n",
            "3\n",
            "iteration no 1 in for loop\n",
            "iteration no 2 in for loop\n",
            "iteration no 3 in for loop\n",
            "iteration no 4 in for loop\n",
            "iteration no 5 in for loop\n",
            "else block in loop\n",
            "Out of loop\n"
          ]
        }
      ]
    },
    {
      "cell_type": "markdown",
      "source": [
        "#FUNCTION\n"
      ],
      "metadata": {
        "id": "Zp30sq4I3J_j"
      }
    },
    {
      "cell_type": "code",
      "source": [],
      "metadata": {
        "id": "sW9dHKzd5iZH"
      },
      "execution_count": null,
      "outputs": []
    },
    {
      "cell_type": "code",
      "source": [
        "#write a program to find sum of two numbers\n",
        "def sum(a,b):\n",
        "    \"\"\"the function is formed to find the sum of two numbers\"\"\"\n",
        "    c = a+b\n",
        "    print(c)\n",
        "sum(10,6)#call the function\n",
        "sum(12.4,56.8)\n",
        "\n"
      ],
      "metadata": {
        "id": "JkpL2tPacITZ",
        "colab": {
          "base_uri": "https://localhost:8080/"
        },
        "outputId": "c6b1fbfc-0d07-4d1e-9bc3-118d8435986c"
      },
      "execution_count": null,
      "outputs": [
        {
          "output_type": "stream",
          "name": "stdout",
          "text": [
            "16\n",
            "69.2\n"
          ]
        }
      ]
    },
    {
      "cell_type": "code",
      "source": [
        "#write a program to return a function with addition program\n",
        "def sum(a,b):\n",
        "  c = a+b\n",
        "  return c\n",
        "sum1 = sum(7,6)\n",
        "print(f'the sum is {sum1}')\n",
        "sum2 = sum(12.3,34.5)\n",
        "print(f'the sum is {sum2}')\n"
      ],
      "metadata": {
        "colab": {
          "base_uri": "https://localhost:8080/"
        },
        "id": "6dXQVBEs4AnL",
        "outputId": "3651cd38-1032-4254-a3b2-cd7d7b276a55"
      },
      "execution_count": null,
      "outputs": [
        {
          "output_type": "stream",
          "name": "stdout",
          "text": [
            "the sum is 13\n",
            "the sum is 46.8\n"
          ]
        }
      ]
    },
    {
      "cell_type": "code",
      "source": [
        "#write a program to find odd or even\n",
        "def even_odd(n):\n",
        "  if n % 2 ==0:\n",
        "    print(f'{n} is even')\n",
        "  else:\n",
        "    print(f'{n} is odd')\n",
        "even_odd(5)\n",
        "even_odd(4)"
      ],
      "metadata": {
        "colab": {
          "base_uri": "https://localhost:8080/"
        },
        "id": "Xr-KDUOj6xky",
        "outputId": "09c14545-ac46-4773-f0e5-852550caf894"
      },
      "execution_count": null,
      "outputs": [
        {
          "output_type": "stream",
          "name": "stdout",
          "text": [
            "5 is odd\n",
            "4 is even\n"
          ]
        }
      ]
    },
    {
      "cell_type": "code",
      "source": [
        "#factorial program using function\n",
        "\n",
        "def factorial(num):\n",
        "    fac = 1\n",
        "    i = 1\n",
        "    while i<=num:\n",
        "      fac*=i\n",
        "      i+=1\n",
        "    return fac\n",
        "n = int(input(''))\n",
        "for i in range(1,n+1):\n",
        "  print(f'the factorial of {i} is {factorial(i)}')\n",
        "\n",
        "\n"
      ],
      "metadata": {
        "colab": {
          "base_uri": "https://localhost:8080/"
        },
        "id": "5RDRp5u37oaT",
        "outputId": "b4fa15a7-e1ca-497b-b00e-888a6dba23bf"
      },
      "execution_count": null,
      "outputs": [
        {
          "output_type": "stream",
          "name": "stdout",
          "text": [
            "8\n",
            "the factorial of 1 is 1\n",
            "the factorial of 2 is 2\n",
            "the factorial of 3 is 6\n",
            "the factorial of 4 is 24\n",
            "the factorial of 5 is 120\n",
            "the factorial of 6 is 720\n",
            "the factorial of 7 is 5040\n",
            "the factorial of 8 is 40320\n"
          ]
        }
      ]
    },
    {
      "cell_type": "code",
      "source": [
        "#write a program to know where prime or not\n",
        "def prime(n):\n",
        "  x = 1\n",
        "  for i in range(2,n):\n",
        "    if n%i==0:\n",
        "      x = 0\n",
        "      break\n",
        "    else:\n",
        "      x = 1\n",
        "    return x\n",
        "num = int(input(\"enter a number:\"))\n",
        "result = prime(num)\n",
        "if result == 1:\n",
        "  print(num,'is prime')\n",
        "else:\n",
        "  print(num, ' is not prime')"
      ],
      "metadata": {
        "colab": {
          "base_uri": "https://localhost:8080/"
        },
        "id": "8qGdXY-H-emN",
        "outputId": "f727df47-e3f1-4be8-bee2-c0e9515fe2e5"
      },
      "execution_count": null,
      "outputs": [
        {
          "output_type": "stream",
          "name": "stdout",
          "text": [
            "enter a number:7\n",
            "7 is prime\n"
          ]
        }
      ]
    },
    {
      "cell_type": "code",
      "source": [
        "#return multiple values from the function\n",
        "#program to sum and subtract\n",
        "def sum_sub(a,b):\n",
        "  c = a+b\n",
        "  d = a-b\n",
        "  return c,d\n",
        "x,y = sum_sub(12,23)\n",
        "z,q = sum_sub(12.4,45.6)\n",
        "print(f'the addition of number is {x}')\n",
        "print(f'the subtraction of number is {y}')\n",
        "print(f'the addition of number is {z}')\n",
        "print(f'the subtraction of number is {q}')"
      ],
      "metadata": {
        "colab": {
          "base_uri": "https://localhost:8080/"
        },
        "id": "n6ful76rDLMz",
        "outputId": "6b0f675a-cf2a-476c-9f1b-04fdc255ab38"
      },
      "execution_count": null,
      "outputs": [
        {
          "output_type": "stream",
          "name": "stdout",
          "text": [
            "the addition of number is 35\n",
            "the subtraction of number is -11\n",
            "the addition of number is 58.0\n",
            "the subtraction of number is -33.2\n"
          ]
        }
      ]
    },
    {
      "cell_type": "code",
      "source": [
        "#program to perform artimatic operation\n",
        "def operation(a,b):\n",
        "   add = a+b\n",
        "   sub = a-b\n",
        "   div = a/b\n",
        "   mul = a*b\n",
        "   return add,sub,div,mul\n",
        "addition,subtraction,division,multiplication = operation(12,34)\n",
        "print(addition,'\\n',subtraction,'\\n',multiplication,'\\n',division)"
      ],
      "metadata": {
        "colab": {
          "base_uri": "https://localhost:8080/"
        },
        "id": "MdWCSHMzIzP0",
        "outputId": "945b1bf0-e8a9-4332-8541-4cba7ccd87f7"
      },
      "execution_count": null,
      "outputs": [
        {
          "output_type": "stream",
          "name": "stdout",
          "text": [
            "46 \n",
            " -22 \n",
            " 408 \n",
            " 0.35294117647058826\n"
          ]
        }
      ]
    },
    {
      "cell_type": "code",
      "source": [
        "\n",
        "#function are first class objects\n",
        "# a program to see how to assign a function to a  variable\n",
        "\n",
        "def display(str):\n",
        "  return 'hai' +str\n",
        "  x = display(\"krishna\")\n",
        "  print(x)\n",
        "\n",
        "\n"
      ],
      "metadata": {
        "id": "MgH5xmwPLGB8"
      },
      "execution_count": null,
      "outputs": []
    },
    {
      "cell_type": "code",
      "source": [
        "#A program to know how to define a function inside another function\n",
        "def display(str):\n",
        "  def message():\n",
        "    return \"how are u?\"\n",
        "\n",
        "  result = message()+str\n",
        "  return result\n",
        "print(display(\"krishna\"))\n"
      ],
      "metadata": {
        "colab": {
          "base_uri": "https://localhost:8080/"
        },
        "id": "6O9Amvdp1Xhs",
        "outputId": "c4525e2c-cc2b-4518-e511-43d4ee81ac45"
      },
      "execution_count": null,
      "outputs": [
        {
          "output_type": "stream",
          "name": "stdout",
          "text": [
            "how are u?krishna\n"
          ]
        }
      ]
    },
    {
      "cell_type": "code",
      "source": [
        "#a program to know how to pass a argument to another function\n",
        "def display(fun):\n",
        "  return 'hai'+fun\n",
        "def message():\n",
        "  return \"how are u ? \"\n",
        "print(display(message()))"
      ],
      "metadata": {
        "colab": {
          "base_uri": "https://localhost:8080/"
        },
        "id": "AW-V8qA_3bTh",
        "outputId": "b66ad382-9714-421d-8f4f-ed2f9e9f5f36"
      },
      "execution_count": null,
      "outputs": [
        {
          "output_type": "stream",
          "name": "stdout",
          "text": [
            "haihow are u ? \n"
          ]
        }
      ]
    },
    {
      "cell_type": "code",
      "source": [
        "# types of argumnets\n",
        "#1. program to understand postional arguments\n",
        "def attach(s1,s2):\n",
        "  s3 = s1+s2\n",
        "  print(s3)\n",
        "attach('new','york') # postional argument\n",
        "\n",
        "\n",
        "\n"
      ],
      "metadata": {
        "colab": {
          "base_uri": "https://localhost:8080/"
        },
        "id": "9WaGgKip3vrD",
        "outputId": "33252d4e-f507-4721-9b4e-5158386412b6"
      },
      "execution_count": null,
      "outputs": [
        {
          "output_type": "stream",
          "name": "stdout",
          "text": [
            "newyork\n"
          ]
        }
      ]
    },
    {
      "cell_type": "code",
      "source": [
        "#2. program to understand keyword arguments\n",
        "def person(name,age):\n",
        "  print(name)\n",
        "  print(age)\n",
        "person(age = 28,name = 'vinay')\n"
      ],
      "metadata": {
        "colab": {
          "base_uri": "https://localhost:8080/"
        },
        "id": "64lU-Me--rvE",
        "outputId": "d8958614-6f04-4fde-c87e-e9ce7152271c"
      },
      "execution_count": null,
      "outputs": [
        {
          "output_type": "stream",
          "name": "stdout",
          "text": [
            "vinay\n",
            "28\n"
          ]
        }
      ]
    },
    {
      "cell_type": "code",
      "source": [
        "#program to make grocery list using keyword argument\n",
        "def grocery(item,price):\n",
        "  print('item = ',item)\n",
        "  print('price = ',price)\n",
        "grocery(item ='oil',price = 80)\n",
        "grocery(item = 'sugar',price = 120)"
      ],
      "metadata": {
        "colab": {
          "base_uri": "https://localhost:8080/"
        },
        "id": "AfT0x1_r-ymn",
        "outputId": "e2712420-53c9-4139-a342-d30b95ebb586"
      },
      "execution_count": null,
      "outputs": [
        {
          "output_type": "stream",
          "name": "stdout",
          "text": [
            "item =  oil\n",
            "price =  80\n",
            "item =  sugar\n",
            "price =  120\n"
          ]
        }
      ]
    },
    {
      "cell_type": "code",
      "source": [
        "#default arguments\n",
        "def grocery(item,price = 90):\n",
        "  print(item)\n",
        "  print(price)\n",
        "grocery(item = 'sugar',price = 100)\n",
        "grocery(item = 'oil')#default  argument"
      ],
      "metadata": {
        "colab": {
          "base_uri": "https://localhost:8080/"
        },
        "id": "ozonIW7A_gUT",
        "outputId": "9fbbe5ae-afcc-410d-d44e-0c16d0cf5874"
      },
      "execution_count": null,
      "outputs": [
        {
          "output_type": "stream",
          "name": "stdout",
          "text": [
            "sugar\n",
            "100\n",
            "oil\n",
            "90\n"
          ]
        }
      ]
    },
    {
      "cell_type": "code",
      "source": [
        "#variable length arguments\n",
        "def add(a,*b):\n",
        "  c = a\n",
        "  for i in b:\n",
        "    c+=i\n",
        "  print(c)\n",
        "  print(*b)\n",
        "add(6,4,5,6,7)"
      ],
      "metadata": {
        "colab": {
          "base_uri": "https://localhost:8080/"
        },
        "id": "tIM_0Qn1CrWL",
        "outputId": "3eb635f1-68dc-4e2f-8677-03a8d1f90720"
      },
      "execution_count": null,
      "outputs": [
        {
          "output_type": "stream",
          "name": "stdout",
          "text": [
            "28\n",
            "4 5 6 7\n"
          ]
        }
      ]
    },
    {
      "cell_type": "code",
      "source": [
        "# A program to variable length argumnet\n",
        "def add(farg,*args):\n",
        "  print('formal argument = ',farg)\n",
        "  sum = farg\n",
        "  for i in args:\n",
        "    sum+=i\n",
        "  print('sum of all numbers = ',sum)\n",
        "add(12,344,45,56)"
      ],
      "metadata": {
        "colab": {
          "base_uri": "https://localhost:8080/"
        },
        "id": "-Aj9QlFmFv-j",
        "outputId": "4f87eafd-7ceb-48c6-c798-003b540d57e8"
      },
      "execution_count": null,
      "outputs": [
        {
          "output_type": "stream",
          "name": "stdout",
          "text": [
            "formal argument =  12\n",
            "sum of all numbers =  457\n"
          ]
        }
      ]
    },
    {
      "cell_type": "code",
      "source": [
        "#keyword variable length argumnet\n",
        "def display(farg,**kwargs):\n",
        "  print(\"formal argument =\",farg)\n",
        "  for i,j in kwargs.items():\n",
        "    print(f'{i} = {j}')\n",
        "display('vinay',rollno = 56,std = '3rdyear')\n",
        "\n"
      ],
      "metadata": {
        "colab": {
          "base_uri": "https://localhost:8080/"
        },
        "id": "ew4JAuuAGdhM",
        "outputId": "2f98d750-b2cc-4c35-85c6-970aa21ea6d5"
      },
      "execution_count": null,
      "outputs": [
        {
          "output_type": "stream",
          "name": "stdout",
          "text": [
            "formal argument = vinay\n",
            "rollno = 56\n",
            "std = 3rdyear\n"
          ]
        }
      ]
    },
    {
      "cell_type": "code",
      "source": [
        "#local variable\n",
        "def my_function():\n",
        "  a = 1 #local varibale\n",
        "  a +=1\n",
        "  print(a)\n",
        "my_function()\n",
        "#print(a) #show error because of local variable"
      ],
      "metadata": {
        "id": "RnoIdKS3GouW",
        "colab": {
          "base_uri": "https://localhost:8080/"
        },
        "outputId": "7a52c44a-57c4-41df-9c08-cf13d67381b1"
      },
      "execution_count": null,
      "outputs": [
        {
          "output_type": "stream",
          "name": "stdout",
          "text": [
            "2\n"
          ]
        }
      ]
    },
    {
      "cell_type": "code",
      "source": [
        "#global variable\n",
        "a = 1 #global varibale\n",
        "def func():\n",
        "  b = 2 #local variable\n",
        "  print('a = ',a)\n",
        "  print('b = ',b)\n",
        "func()\n",
        "print(a) #avialable\n",
        "#print(b) #error"
      ],
      "metadata": {
        "colab": {
          "base_uri": "https://localhost:8080/"
        },
        "id": "XvjQx6wAnPVr",
        "outputId": "3d0c3a26-4c3d-4cd0-ad2b-b5dd07ef1f45"
      },
      "execution_count": null,
      "outputs": [
        {
          "output_type": "stream",
          "name": "stdout",
          "text": [
            "a =  1\n",
            "b =  2\n",
            "1\n"
          ]
        }
      ]
    },
    {
      "cell_type": "code",
      "source": [
        "# a program to understand local and global variable\n",
        "#same name varaiable\n",
        "a = 1\n",
        "def s():\n",
        "  a = 2\n",
        "  print('a = ',a)#display local\n",
        "s()\n",
        "print(a)#display global"
      ],
      "metadata": {
        "colab": {
          "base_uri": "https://localhost:8080/"
        },
        "id": "BDKDbYPUoKAH",
        "outputId": "7d72eb12-67c9-48b3-f895-4e4a1af1e330"
      },
      "execution_count": null,
      "outputs": [
        {
          "output_type": "stream",
          "name": "stdout",
          "text": [
            "a =  2\n",
            "1\n"
          ]
        }
      ]
    },
    {
      "cell_type": "code",
      "source": [
        "# a program to access global variable inside a fuction with same name\n",
        "a = 1 #global\n",
        "def f():\n",
        "  global a #this is global variable\n",
        "  print('a = ',a)\n",
        "  a = 2 #modify global varibale\n",
        "  print('a = ',a)\n",
        "f()\n",
        "print(a)"
      ],
      "metadata": {
        "colab": {
          "base_uri": "https://localhost:8080/"
        },
        "id": "va2axT8booVY",
        "outputId": "6232fbad-e4e7-4865-da08-1c84d64533b1"
      },
      "execution_count": null,
      "outputs": [
        {
          "output_type": "stream",
          "name": "stdout",
          "text": [
            "a =  1\n",
            "a =  2\n",
            "2\n"
          ]
        }
      ]
    },
    {
      "cell_type": "code",
      "source": [
        "# a program to get a copy of gloabl varibale into a function and work on it\n",
        "a = 1\n",
        "def f():\n",
        "  a = 2\n",
        "  x = globals()['a'] #get global var into x\n",
        "  print('global var a = ',x)\n",
        "  print('local var a = ',a)\n",
        "\n",
        "f()\n",
        "print('global var a = ',a)"
      ],
      "metadata": {
        "colab": {
          "base_uri": "https://localhost:8080/"
        },
        "id": "rJ0fZB3Jpd7p",
        "outputId": "2486d322-5233-4c45-a433-11de1167f725"
      },
      "execution_count": null,
      "outputs": [
        {
          "output_type": "stream",
          "name": "stdout",
          "text": [
            "global var a =  1\n",
            "local var a =  2\n",
            "global var a =  1\n"
          ]
        }
      ]
    },
    {
      "cell_type": "code",
      "source": [
        "#passing a group of elements to a function\n",
        "# a function to accept a group of numbers and find their total average\n",
        "def calculate(lst):\n",
        "  n = len(lst)\n",
        "  sum = 0\n",
        "  for i in lst:\n",
        "    sum+=i\n",
        "    avg = sum/n\n",
        "    return sum,avg\n",
        "print(\"enter a numbers separeted from keyword\")\n",
        "lst = [int(x) for x in input().split()]\n",
        "x,y = calculate(lst)\n",
        "print(f'average of list is {x}')\n",
        "print(f'sum of the list is {y}')"
      ],
      "metadata": {
        "id": "uSL-FEcfp8kk",
        "outputId": "de04e05f-8670-460a-b111-0d607fec6f49",
        "colab": {
          "base_uri": "https://localhost:8080/"
        }
      },
      "execution_count": null,
      "outputs": [
        {
          "output_type": "stream",
          "name": "stdout",
          "text": [
            "enter a numbers separeted from keyword\n",
            "12 45 56 78 45\n",
            "average of list is 12\n",
            "sum of the list is 2.4\n"
          ]
        }
      ]
    },
    {
      "cell_type": "code",
      "source": [
        "# A function to display group of strings\n",
        "def display(lst):\n",
        "  for i in lst:\n",
        "    print(i)\n",
        "print(\"enter a group a of names in str :\")\n",
        "lst = [x for x in input().split(',') ]\n",
        "display(lst)"
      ],
      "metadata": {
        "id": "Jy0DK8DRYkA6",
        "outputId": "279fe61c-de5f-47d8-fc01-fe0bc6f2a098",
        "colab": {
          "base_uri": "https://localhost:8080/"
        }
      },
      "execution_count": null,
      "outputs": [
        {
          "output_type": "stream",
          "name": "stdout",
          "text": [
            "enter a group a of names in str :\n",
            "vinay,niku,sam,om,vaibhav,pratham\n",
            "vinay\n",
            "niku\n",
            "sam\n",
            "om\n",
            "vaibhav\n",
            "pratham\n"
          ]
        }
      ]
    },
    {
      "cell_type": "code",
      "source": [
        "# write a code to display even and odd in lst\n",
        "def even_odd(lst):\n",
        " even = 0\n",
        " odd = 0\n",
        " for i in lst:\n",
        "   if i%2==0:\n",
        "     even+=1\n",
        "   else:\n",
        "     odd+=1\n",
        " return even,odd\n",
        "lst = [12,23,34,45,5,56,67]\n",
        "even,odd = even_odd(lst)\n",
        "print(f'even : {even} and odd : {odd}')\n"
      ],
      "metadata": {
        "id": "9C6f6Im8Zh2b",
        "outputId": "ae063414-6202-4700-9a9f-61fc93376e70",
        "colab": {
          "base_uri": "https://localhost:8080/"
        }
      },
      "execution_count": null,
      "outputs": [
        {
          "output_type": "stream",
          "name": "stdout",
          "text": [
            "even : 3 and odd : 4\n"
          ]
        }
      ]
    },
    {
      "cell_type": "code",
      "source": [
        "def count1(lst):\n",
        " count = 0\n",
        " n = len(lst)\n",
        " for i in range(n):\n",
        "   if len(lst[i]) > 5:\n",
        "    count+=1\n",
        " return count\n",
        "print(\"enter a name:\")\n",
        "lst = [x for x in input().split(',')]\n",
        "count1(lst)\n"
      ],
      "metadata": {
        "id": "Z0Do-xxbcfXP",
        "outputId": "63abbbc8-2dd3-4703-cc08-dcbd150eec8b",
        "colab": {
          "base_uri": "https://localhost:8080/"
        }
      },
      "execution_count": null,
      "outputs": [
        {
          "name": "stdout",
          "output_type": "stream",
          "text": [
            "enter a name:\n",
            "vinay\n"
          ]
        },
        {
          "output_type": "execute_result",
          "data": {
            "text/plain": [
              "0"
            ]
          },
          "metadata": {},
          "execution_count": 11
        }
      ]
    },
    {
      "cell_type": "code",
      "source": [
        "#fibonacci series\n",
        "def fib(n):\n",
        "  a = 0\n",
        "  b = 1\n",
        "  if n < 0:\n",
        "    print(\"its invalid\")\n",
        "  elif n == 1:\n",
        "    print(a)\n",
        "  else:\n",
        "   print(a)\n",
        "   print(b)\n",
        "  for i in range(2,n):\n",
        "    print(a+b)\n",
        "    c=a+b\n",
        "    a=b\n",
        "    b=c\n",
        "    if c > 100:\n",
        "       print(c)\n",
        "       break\n",
        "fib(int(input('enter a numbers:')))\n",
        "\n",
        "\n",
        "\n"
      ],
      "metadata": {
        "id": "QKVYOdOt1Vt6",
        "colab": {
          "base_uri": "https://localhost:8080/"
        },
        "outputId": "39b10c5f-e577-4bc4-d16c-5737ca5de08f"
      },
      "execution_count": null,
      "outputs": [
        {
          "output_type": "stream",
          "name": "stdout",
          "text": [
            "enter a numbers:100\n",
            "0\n",
            "1\n",
            "1\n",
            "2\n",
            "3\n",
            "5\n",
            "8\n",
            "13\n",
            "21\n",
            "34\n",
            "55\n",
            "89\n",
            "144\n",
            "144\n"
          ]
        }
      ]
    },
    {
      "cell_type": "code",
      "source": [
        "#facrtorial\n",
        "def factorial(n):\n",
        "  fac = 1\n",
        "  for i in range(1,n+1):\n",
        "    fac*=i\n",
        "    print(f'the factorail of {i} is {fac}')\n",
        "factorial(int(input(\"enter a number:\")))\n"
      ],
      "metadata": {
        "colab": {
          "base_uri": "https://localhost:8080/"
        },
        "id": "uzQBPGcnfMiz",
        "outputId": "a302bf0b-088a-4325-f914-d4ff7c17be6a"
      },
      "execution_count": null,
      "outputs": [
        {
          "output_type": "stream",
          "name": "stdout",
          "text": [
            "enter a number:5\n",
            "the factorail of 1 is 1\n",
            "the factorail of 2 is 2\n",
            "the factorail of 3 is 6\n",
            "the factorail of 4 is 24\n",
            "the factorail of 5 is 120\n"
          ]
        }
      ]
    },
    {
      "cell_type": "code",
      "source": [
        "#recurssion : the function call itself into the function\n",
        "#example:\n",
        "import sys\n",
        "def greet():\n",
        "\n",
        "  print('hello')\n",
        "  greet()\n",
        "\n"
      ],
      "metadata": {
        "id": "fhwpMPqSg0fx"
      },
      "execution_count": null,
      "outputs": []
    },
    {
      "cell_type": "code",
      "source": [
        "#factorial using recusrive function\n",
        "def fac(n):\n",
        "  if n == 1:\n",
        "    return 1\n",
        "  return n*fac(n-1)\n",
        "n = int(input('enter any value:'))\n",
        "for i in range(1,n+1):\n",
        " print(f'the factorial of {i} is {fac(i)}')\n"
      ],
      "metadata": {
        "colab": {
          "base_uri": "https://localhost:8080/"
        },
        "id": "o5GSS0k4ioNb",
        "outputId": "f1d6b747-2b89-404f-c129-4456959057b7"
      },
      "execution_count": null,
      "outputs": [
        {
          "output_type": "stream",
          "name": "stdout",
          "text": [
            "enter any value:10\n",
            "the factorial of 1 is 1\n",
            "the factorial of 2 is 2\n",
            "the factorial of 3 is 6\n",
            "the factorial of 4 is 24\n",
            "the factorial of 5 is 120\n",
            "the factorial of 6 is 720\n",
            "the factorial of 7 is 5040\n",
            "the factorial of 8 is 40320\n",
            "the factorial of 9 is 362880\n",
            "the factorial of 10 is 3628800\n"
          ]
        }
      ]
    },
    {
      "cell_type": "code",
      "source": [
        "# program to solve towers of hanoi\n",
        "def towers(n,a,c,b):\n",
        "  if n==1: # if only 1 disk,then move it from a to c\n",
        "    print('move 1 disk from',a,'to', c)\n",
        "  else: # if we have more than 1 disk\n",
        "   #move first n -1 disks from a to b using c as intermeadiate pole\n",
        "   towers(n-1,a,b,c)\n",
        "   #move remaining 1 disk from a to c\n",
        "   print(f'move disk{n} from {a} to {c}')\n",
        "   towers(n-1,b,c,a)\n",
        "n = int(input('enter a value:'))\n",
        "towers(n,'a','c',\"b\")\n",
        "\n"
      ],
      "metadata": {
        "colab": {
          "base_uri": "https://localhost:8080/"
        },
        "id": "gyn_jA34m9DS",
        "outputId": "e3474704-c846-48b0-fa28-c5bdabfbef14"
      },
      "execution_count": null,
      "outputs": [
        {
          "output_type": "stream",
          "name": "stdout",
          "text": [
            "enter a value:3\n",
            "move 1 disk from a to c\n",
            "move disk2 from a to b\n",
            "move 1 disk from c to b\n",
            "move disk3 from a to c\n",
            "move 1 disk from b to a\n",
            "move disk2 from b to c\n",
            "move 1 disk from a to c\n"
          ]
        }
      ]
    },
    {
      "cell_type": "code",
      "source": [
        "#Lambda function\n",
        "# write a program to create a lambda functiion that returns a square value..\n",
        "f = lambda x:x*x\n",
        "value = f(5)\n",
        "print(value)"
      ],
      "metadata": {
        "colab": {
          "base_uri": "https://localhost:8080/"
        },
        "id": "249g7gQ0qOgr",
        "outputId": "4ea61d39-d212-4dae-894a-43afa24aa068"
      },
      "execution_count": null,
      "outputs": [
        {
          "output_type": "stream",
          "name": "stdout",
          "text": [
            "25\n"
          ]
        }
      ]
    },
    {
      "cell_type": "code",
      "source": [
        "#addition of two numbers\n",
        "f = lambda x,y:x+y\n",
        "value = f(6,7)\n",
        "print(value)"
      ],
      "metadata": {
        "colab": {
          "base_uri": "https://localhost:8080/"
        },
        "id": "ZxbPke1StqzX",
        "outputId": "93d5f15f-d885-479c-cb57-316567b2da3f"
      },
      "execution_count": null,
      "outputs": [
        {
          "output_type": "stream",
          "name": "stdout",
          "text": [
            "13\n"
          ]
        }
      ]
    },
    {
      "cell_type": "code",
      "source": [
        "#program to find a bigger number in two given number\n",
        "f = lambda x,y:x if x>y else y\n",
        "a, b = [int(x) for x in input('enter two number:').split(',')]\n",
        "print('bigger number = ',max(a,b))"
      ],
      "metadata": {
        "colab": {
          "base_uri": "https://localhost:8080/"
        },
        "id": "gKMG5xfPt3MG",
        "outputId": "2fa78576-ba9a-4457-db81-5a2642eb78c7"
      },
      "execution_count": null,
      "outputs": [
        {
          "output_type": "stream",
          "name": "stdout",
          "text": [
            "enter two number:12,35\n",
            "bigger number =  35\n"
          ]
        }
      ]
    },
    {
      "cell_type": "code",
      "source": [
        "#filter function using lambda\n",
        "def is_even(n):\n",
        "  return n%2==0\n",
        "nums = [12,23,34,45,56,67]\n",
        "evens  = list(filter(is_even,nums))\n",
        "print(evens)"
      ],
      "metadata": {
        "id": "1kIy0Z2QvRL6",
        "outputId": "460829d6-f950-4c3f-e638-f9736e9e42f3",
        "colab": {
          "base_uri": "https://localhost:8080/"
        }
      },
      "execution_count": null,
      "outputs": [
        {
          "output_type": "stream",
          "name": "stdout",
          "text": [
            "[12, 34, 56]\n"
          ]
        }
      ]
    },
    {
      "cell_type": "code",
      "source": [
        "#using lmabda funnction\n",
        "lst = [12,34,45,89,21]\n",
        "evens = list(filter(lambda n : n%2==0,lst))\n",
        "print(evens)"
      ],
      "metadata": {
        "id": "1iCtoTUF3834",
        "outputId": "d24e6f9c-e390-495d-e653-94955ff8abf0",
        "colab": {
          "base_uri": "https://localhost:8080/"
        }
      },
      "execution_count": null,
      "outputs": [
        {
          "output_type": "stream",
          "name": "stdout",
          "text": [
            "[12, 34]\n"
          ]
        }
      ]
    },
    {
      "cell_type": "code",
      "source": [
        "#using map function\n",
        "lst = [12,23,34,45,56,98]\n",
        "doubles = list(map(lambda n : n*2,lst))\n",
        "print(doubles)"
      ],
      "metadata": {
        "id": "mTggOUSz4O6N",
        "outputId": "22af4f63-1fcd-4005-a657-8f052112fe5a",
        "colab": {
          "base_uri": "https://localhost:8080/"
        }
      },
      "execution_count": null,
      "outputs": [
        {
          "output_type": "stream",
          "name": "stdout",
          "text": [
            "[24, 46, 68, 90, 112, 196]\n"
          ]
        }
      ]
    },
    {
      "cell_type": "code",
      "source": [
        "#use reduce function\n",
        "from functools import reduce\n",
        "print(doubles)\n",
        "result = reduce(lambda x,y:x*y,doubles)\n",
        "print(result)\n"
      ],
      "metadata": {
        "id": "nsXGpRmf5oBL",
        "outputId": "d44a990b-9cc1-405f-f0d2-16a38c303025",
        "colab": {
          "base_uri": "https://localhost:8080/"
        }
      },
      "execution_count": null,
      "outputs": [
        {
          "output_type": "stream",
          "name": "stdout",
          "text": [
            "[24, 46, 68, 90, 112, 196]\n",
            "148318248960\n"
          ]
        }
      ]
    },
    {
      "cell_type": "code",
      "source": [
        "#decorators function\n",
        "def div(a,b):\n",
        " print(a/b)\n",
        "\n",
        "def smart_dev(func):\n",
        "  def inner(a,b):\n",
        "   if a<b:\n",
        "    a,b=b,a\n",
        "    return func(a,b)\n",
        "  return inner\n",
        "\n",
        "div = smart_dev(div)\n",
        "div(2,4)"
      ],
      "metadata": {
        "id": "_mFaJTMh6wBU",
        "colab": {
          "base_uri": "https://localhost:8080/"
        },
        "outputId": "c53552fa-777e-4835-a066-50353a87feb2"
      },
      "execution_count": null,
      "outputs": [
        {
          "output_type": "stream",
          "name": "stdout",
          "text": [
            "2.0\n"
          ]
        }
      ]
    },
    {
      "cell_type": "code",
      "source": [
        "#a decorator to increase the value of function by 2\n",
        "def decor(fun):\n",
        "  def inner():\n",
        "   value = fun()\n",
        "   return value + 2\n",
        "  return inner\n",
        "def num():\n",
        "  return 10\n",
        "result_fun = decor(num)\n",
        "print(result_fun())"
      ],
      "metadata": {
        "colab": {
          "base_uri": "https://localhost:8080/"
        },
        "id": "BHptRgqunimM",
        "outputId": "e187b421-2b1e-4852-b4e5-65d4009b97fe"
      },
      "execution_count": null,
      "outputs": [
        {
          "output_type": "stream",
          "name": "stdout",
          "text": [
            "12\n"
          ]
        }
      ]
    },
    {
      "cell_type": "code",
      "source": [
        "#genators in python\n",
        "# a program to create a generator that returns a  sequence of nunmbers for x to y\n",
        "def mygen(x,y):\n",
        "  while x<=y:\n",
        "    yield x\n",
        "    x+=1\n",
        "g  = mygen(12,20)\n",
        "for i in g:\n",
        "  print(i,end = \" \")"
      ],
      "metadata": {
        "colab": {
          "base_uri": "https://localhost:8080/"
        },
        "id": "XSXw0TELo6IC",
        "outputId": "dd3a4561-6a1f-42f6-f266-dd8fa2f7239d"
      },
      "execution_count": null,
      "outputs": [
        {
          "output_type": "stream",
          "name": "stdout",
          "text": [
            "12 13 14 15 16 17 18 19 20 "
          ]
        }
      ]
    },
    {
      "cell_type": "markdown",
      "source": [
        "\n",
        "\n"
      ],
      "metadata": {
        "id": "1l20GJy54XxV"
      }
    },
    {
      "cell_type": "code",
      "source": [
        "#the speical varibale \"__name__\"\n",
        "from google.colab import files\n",
        "def display():\n",
        "  print('hello world')\n",
        "if __name__ == '__main__':\n",
        "  display()\n",
        "  print(\"this code is run in a program \")\n",
        "else:\n",
        "  print('the code is run in a module')\n",
        "\n",
        "\n",
        "\n"
      ],
      "metadata": {
        "id": "L8-FhXyGqfo9",
        "colab": {
          "base_uri": "https://localhost:8080/"
        },
        "outputId": "5209f2d6-0e76-44db-e4d2-d0d1d0823b5f"
      },
      "execution_count": null,
      "outputs": [
        {
          "output_type": "stream",
          "name": "stdout",
          "text": [
            "hello world\n",
            "this code is run in a program \n"
          ]
        }
      ]
    },
    {
      "cell_type": "markdown",
      "source": [
        "#expection handling\n"
      ],
      "metadata": {
        "id": "GHHL3B9uLxY-"
      }
    },
    {
      "cell_type": "code",
      "source": [
        "# to program to handle error statement in a program with keyword\n",
        "a = 10\n",
        "b = 2\n",
        "\n",
        "try: #this keyword is used to try the run the block of code if it run it doesnt shoe error\n",
        "  print('resource open')\n",
        "  print(a/b)\n",
        "  k = int(input('enter a value:'))\n",
        "  print(k)\n",
        "except ZeroDivisionError as e: # this keyword is used when try show the error and u need to handle it..\n",
        "  print('Hey, We cannot divide with zero',e)\n",
        "except ValueError as e:\n",
        "  print(\"Hey,Invalid Input\",e)\n",
        "except Exception as e:\n",
        "  print(\"s,othing went wrong...\")\n",
        "finally: # it runs code its shows error or not\n",
        "  print(\"resuorces close\")"
      ],
      "metadata": {
        "id": "w7vnAu57A-h3",
        "colab": {
          "base_uri": "https://localhost:8080/"
        },
        "outputId": "32624f0a-308a-4080-a93d-bf197398c011"
      },
      "execution_count": null,
      "outputs": [
        {
          "output_type": "stream",
          "name": "stdout",
          "text": [
            "resource open\n",
            "5.0\n",
            "enter a value:6\n",
            "6\n",
            "resuorces close\n"
          ]
        }
      ]
    },
    {
      "cell_type": "markdown",
      "source": [
        "#file handling"
      ],
      "metadata": {
        "id": "lgxzwwJkNUhZ"
      }
    },
    {
      "cell_type": "code",
      "source": [
        "#file  handling\n",
        "# a program to create a text file to store indivual charcters\n",
        "f = open(\"myfile.txt\",'w')\n",
        "str = input('enter a text:')\n",
        "f.write(str)\n",
        "f.close"
      ],
      "metadata": {
        "id": "A1XjIrNZOuw0",
        "colab": {
          "base_uri": "https://localhost:8080/"
        },
        "outputId": "401de2ed-02b6-48cf-9a41-4e404a708d84"
      },
      "execution_count": null,
      "outputs": [
        {
          "name": "stdout",
          "output_type": "stream",
          "text": [
            "enter a text:vinay\n"
          ]
        },
        {
          "output_type": "execute_result",
          "data": {
            "text/plain": [
              "<function TextIOWrapper.close()>"
            ]
          },
          "metadata": {},
          "execution_count": 1
        }
      ]
    },
    {
      "cell_type": "code",
      "source": [
        "# a python program to read charcters from a text file\n",
        "f = open('myfile.txt','r')\n",
        "str = f.read()\n",
        "print(f.readline())\n",
        "print(str)\n",
        "f.close()"
      ],
      "metadata": {
        "colab": {
          "base_uri": "https://localhost:8080/"
        },
        "id": "vrnM9TnfFf8K",
        "outputId": "0bfb6870-c731-4f80-a209-09f92751b557"
      },
      "execution_count": null,
      "outputs": [
        {
          "output_type": "stream",
          "name": "stdout",
          "text": [
            "\n",
            "vinay\n",
            "no\n",
            "\n"
          ]
        }
      ]
    },
    {
      "cell_type": "code",
      "source": [
        "f = open('myfile.txt','r')\n",
        "print(f)\n",
        "f1=open('myfile1.txt','w')\n",
        "f1.write('something,\\n,people laptop')\n",
        "for data in f:\n",
        "  f1.write(data)\n"
      ],
      "metadata": {
        "colab": {
          "base_uri": "https://localhost:8080/"
        },
        "id": "k13d5rWLGFR8",
        "outputId": "87d1cd68-ab91-4a63-9da3-6e27d62181f8"
      },
      "execution_count": null,
      "outputs": [
        {
          "output_type": "stream",
          "name": "stdout",
          "text": [
            "<_io.TextIOWrapper name='myfile.txt' mode='r' encoding='UTF-8'>\n"
          ]
        }
      ]
    },
    {
      "cell_type": "code",
      "source": [
        "f = open('img.jpg','rb') #it is binary mode so read binary:rb\n",
        "f1 = open('mypic','wb')\n",
        "for i in f:\n",
        "  f1.write(i)"
      ],
      "metadata": {
        "id": "-4L7x91sIau7"
      },
      "execution_count": null,
      "outputs": []
    },
    {
      "cell_type": "markdown",
      "source": [
        "#Object Oreinted Programming\n"
      ],
      "metadata": {
        "id": "1KDLGQRegEiV"
      }
    },
    {
      "cell_type": "code",
      "source": [
        "#class and object\n",
        "class computer: # intizaling the class\n",
        "  #the below line difine a method\n",
        "  def config(self): #method define in class\n",
        "    print(\"im a computer\")\n",
        "a = 8\n",
        "print(type(a)) #another object in class known as base class\n",
        "b = 'usdh'\n",
        "print(type(b))\n",
        "comp1 = computer() # object difine\n",
        "comp2 = computer()\n",
        "computer.config(comp1) #method called by classname\n",
        "comp2.config() #method define by intance name and parenthesis contain the object difine"
      ],
      "metadata": {
        "id": "fKKReBJzgMTm",
        "outputId": "b8da9901-d231-4f60-8a07-51f800cfaea3",
        "colab": {
          "base_uri": "https://localhost:8080/"
        }
      },
      "execution_count": null,
      "outputs": [
        {
          "output_type": "stream",
          "name": "stdout",
          "text": [
            "<class 'int'>\n",
            "<class 'str'>\n",
            "im a computer\n",
            "im a computer\n"
          ]
        }
      ]
    },
    {
      "cell_type": "code",
      "source": [
        "#intalize speical variable..\n",
        "class student:\n",
        "  def __init__(self): #attributes\n",
        "    self.name = input('enter a name:')\n",
        "    self.age = int(input(\"enter a age:\"))\n",
        "    self.marks = int(input(\"enter a marks:\"))\n",
        "  def talk(self): #actons\n",
        "   print(\"hi , I'm \",self.name)\n",
        "   print(\"my age is\",self.age)\n",
        "   print('my marks are ', self.marks)\n",
        "s1 = student()\n",
        "s2 = student()\n",
        "\n",
        "s1.talk()\n",
        "s2.talk()"
      ],
      "metadata": {
        "id": "Nhg5q0Rnh0gi",
        "colab": {
          "base_uri": "https://localhost:8080/"
        },
        "outputId": "27953c63-e4b4-4702-968c-a70cda61e806"
      },
      "execution_count": null,
      "outputs": [
        {
          "output_type": "stream",
          "name": "stdout",
          "text": [
            "enter a name:inay\n",
            "enter a age:65\n",
            "enter a marks:87\n",
            "enter a name:om\n",
            "enter a age:31\n",
            "enter a marks:98\n",
            "hi , I'm  inay\n",
            "my age is 65\n",
            "my marks are  87\n",
            "hi , I'm  om\n",
            "my age is 31\n",
            "my marks are  98\n"
          ]
        }
      ]
    },
    {
      "cell_type": "code",
      "source": [
        "#the self variable\n",
        "class student():\n",
        "  pass\n",
        "s1 = student() #contains the memory adress of the  object\n",
        "def __int__(self): # used as a first parameter in the constructor\n",
        "def talk(self): # used as a first parameter in the object methods"
      ],
      "metadata": {
        "colab": {
          "base_uri": "https://localhost:8080/",
          "height": 106
        },
        "id": "GvSjTIkn9KKk",
        "outputId": "363e9fbe-cefc-429a-a07d-3205ef410cb3"
      },
      "execution_count": null,
      "outputs": [
        {
          "output_type": "error",
          "ename": "SyntaxError",
          "evalue": "incomplete input (<ipython-input-1-f7b7af7a438d>, line 2)",
          "traceback": [
            "\u001b[0;36m  File \u001b[0;32m\"<ipython-input-1-f7b7af7a438d>\"\u001b[0;36m, line \u001b[0;32m2\u001b[0m\n\u001b[0;31m    class student():\u001b[0m\n\u001b[0m                    ^\u001b[0m\n\u001b[0;31mSyntaxError\u001b[0m\u001b[0;31m:\u001b[0m incomplete input\n"
          ]
        }
      ]
    },
    {
      "cell_type": "code",
      "source": [
        "#constructor\n",
        "# a program to create a studenet class with a constrotor having more than one parameter\n",
        "class student:\n",
        "    def __init__(self, n ='', m = 0): #constructor\n",
        "       self.name = n\n",
        "       self.marks = m\n",
        "    def display(self):\n",
        "        print(\"hi\",self.name)\n",
        "        print(\"marks :\",self.marks)\n",
        "\n",
        "s = student()\n",
        "s.display() # constructor is called without any argument\n",
        "print('-------------------')\n",
        "s1 = student('vinay',80)\n",
        "s1.display() # constructor is called with 2 arguments\n",
        "print(\"-------------------\")\n"
      ],
      "metadata": {
        "id": "FN65mqlGJIEG",
        "outputId": "e8b9fbaa-8f06-4966-ac84-feb54cde70cf",
        "colab": {
          "base_uri": "https://localhost:8080/"
        }
      },
      "execution_count": null,
      "outputs": [
        {
          "output_type": "stream",
          "name": "stdout",
          "text": [
            "hi \n",
            "marks : 0\n",
            "-------------------\n",
            "hi vinay\n",
            "marks : 80\n",
            "-------------------\n"
          ]
        }
      ]
    },
    {
      "cell_type": "code",
      "source": [
        "#types of variables\n",
        "# a program to understand instance variable\n",
        "class sample:\n",
        "  def __init__(self):\n",
        "    self.x = 10\n",
        "  def modify(self):\n",
        "    self.x+=1\n",
        "s1 = sample()\n",
        "s2 = sample()\n",
        "print('x in s1=',s1.x)\n",
        "print('x in s2=',s2.x)\n",
        "\n",
        "s1.modify()\n",
        "print('x in s1=',s1.x)\n",
        "print('x in s2=',s2.x)\n"
      ],
      "metadata": {
        "id": "HQ9xzMJJJmnX",
        "outputId": "ea4f64f8-cd7f-47cc-e918-a7020ac1f013",
        "colab": {
          "base_uri": "https://localhost:8080/"
        }
      },
      "execution_count": null,
      "outputs": [
        {
          "output_type": "stream",
          "name": "stdout",
          "text": [
            "x in s1= 10\n",
            "x in s2= 10\n",
            "x in s1= 11\n",
            "x in s2= 10\n"
          ]
        }
      ]
    },
    {
      "cell_type": "code",
      "source": [
        "class car:\n",
        "  def __init__(self):\n",
        "     self.com = \"Bmw\"\n",
        "     self.mil = 10\n",
        "c1 = car()\n",
        "c2 = car()\n",
        "c2.mil = 9\n",
        "print(c1.com,c1.mil)\n",
        "print(c2.com,c2.mil)\n"
      ],
      "metadata": {
        "id": "l9hdmMnvO1tO",
        "outputId": "bc9581df-2562-43eb-93bc-da0a6fcad30a",
        "colab": {
          "base_uri": "https://localhost:8080/"
        }
      },
      "execution_count": null,
      "outputs": [
        {
          "output_type": "stream",
          "name": "stdout",
          "text": [
            "Bmw 10\n",
            "Bmw 9\n"
          ]
        }
      ]
    },
    {
      "cell_type": "code",
      "source": [
        "#class varaibles\n",
        "class car:\n",
        "  wheels = 4 # class var\n",
        "  def __init__(self):\n",
        "     self.com = \"Bmw\"\n",
        "     self.mil = 10\n",
        "c1 = car()\n",
        "c2 = car()\n",
        "c2.mil = 9 #modify instance variable respect to object...\n",
        "car.wheels = 5 # modify class variable changes in all the copies of it\n",
        "print(c1.com,c1.mil,c1.wheels)\n",
        "print(c2.com,c2.mil,c2.wheels)"
      ],
      "metadata": {
        "id": "wjzJhOMbPnz6",
        "outputId": "3e81ff54-d846-4b32-bc4d-79c434cb8f11",
        "colab": {
          "base_uri": "https://localhost:8080/"
        }
      },
      "execution_count": null,
      "outputs": [
        {
          "output_type": "stream",
          "name": "stdout",
          "text": [
            "Bmw 10 5\n",
            "Bmw 9 5\n"
          ]
        }
      ]
    },
    {
      "cell_type": "code",
      "source": [
        "#types of method\n",
        "# a program using a student class with instance method to process the data\n",
        "class student:\n",
        "   def __init__(self,n='',m=0):\n",
        "    self.name = n\n",
        "    self.marks = m\n",
        "   \"\"\" this is instance method\"\"\"\n",
        "   def display(self):\n",
        "    print('hi',self.name)\n",
        "    print('Your marks',self.marks)\n",
        "   ''' to  calcluate grades based on marks'''\n",
        "   def calculate(self):\n",
        "    if(self.marks>=600):\n",
        "      print('you got first grade')\n",
        "    elif(self.marks>=450):\n",
        "      print('you got second grade')\n",
        "    elif(self.marks>=300):\n",
        "      print('you got c grade')\n",
        "    else:\n",
        "      print('you got failed')\n",
        "#create an instances with some data\n",
        "n = int(input(\"how many students?\"))\n",
        "\n",
        "i=0\n",
        "while i<n:\n",
        "  name = input(f'enter a name{i+1}:')\n",
        "  marks = int(input(f'enter a marks{i+1}:'))\n",
        "  s = student(name,marks)\n",
        "  s.display()\n",
        "  s.calculate()\n",
        "  i+=1\n",
        "  print(\"------------------\")"
      ],
      "metadata": {
        "id": "GWzTBEGJTEBt",
        "colab": {
          "base_uri": "https://localhost:8080/"
        },
        "outputId": "3bb307db-029d-48f0-c95b-172b1006b0aa"
      },
      "execution_count": null,
      "outputs": [
        {
          "output_type": "stream",
          "name": "stdout",
          "text": [
            "how many students?3\n",
            "enter a name1:vinay\n",
            "enter a marks1:300\n",
            "hi vinay\n",
            "Your marks 300\n",
            "you got c grade\n",
            "------------------\n",
            "enter a name2:om\n",
            "enter a marks2:4000\n",
            "hi om\n",
            "Your marks 4000\n",
            "you got first grade\n",
            "------------------\n",
            "enter a name3:vaibs\n",
            "enter a marks3:300\n",
            "hi vaibs\n",
            "Your marks 300\n",
            "you got c grade\n",
            "------------------\n"
          ]
        }
      ]
    },
    {
      "cell_type": "code",
      "source": [
        "# a program to explain mututor and accessor\n",
        "class student:\n",
        "  #mutator method\n",
        "  def setname(self , name):\n",
        "    self.name = name\n",
        "  #accessor method\n",
        "  def getname(self):\n",
        "    return self.name\n",
        "  def setmarks(self , marks):\n",
        "    self.marks = marks\n",
        "  def getmarks(self):\n",
        "    return self.marks\n",
        "s = student()\n",
        "s.setname(\"vinay\")\n",
        "s.setmarks(80)\n",
        "print('hi',s.getname())\n",
        "print('your marks',s.getmarks())"
      ],
      "metadata": {
        "colab": {
          "base_uri": "https://localhost:8080/"
        },
        "id": "qA6sBmoUJGvN",
        "outputId": "e53ed367-8001-48b2-f885-2f4150bd5e01"
      },
      "execution_count": null,
      "outputs": [
        {
          "output_type": "stream",
          "name": "stdout",
          "text": [
            "hi vinay\n",
            "your marks 80\n"
          ]
        }
      ]
    },
    {
      "cell_type": "code",
      "source": [
        "#a class mathod\n",
        "class student:\n",
        "  school = 'vinay'\n",
        "\n",
        "  @classmethod\n",
        "  def getschool(cls):\n",
        "    return cls.school\n",
        "\n",
        "  @staticmethod\n",
        "  def info():\n",
        "    print(\"this is a student class\")\n",
        "print(student.getschool())\n",
        "student.info()"
      ],
      "metadata": {
        "id": "gQxpnF-lPN_Y",
        "outputId": "1fc33a0f-ac9b-45e0-da33-2fc6d3156b6e",
        "colab": {
          "base_uri": "https://localhost:8080/"
        }
      },
      "execution_count": null,
      "outputs": [
        {
          "output_type": "stream",
          "name": "stdout",
          "text": [
            "vinay\n",
            "this is a student class\n"
          ]
        }
      ]
    },
    {
      "cell_type": "code",
      "source": [
        "#Inner class\n",
        "# A python program to create dob class within person\n",
        "class person:\n",
        "  def __init__(self):\n",
        "    self.name = 'charles'\n",
        "    self.db = self.dob()\n",
        "  def display(self):\n",
        "    print('name = ',self.name)\n",
        "  #this is inner class\n",
        "  class dob():\n",
        "    def __init__(self):\n",
        "      self.dd = 10\n",
        "      self.mm = 12\n",
        "      self.yy = 2003\n",
        "    def display(self):\n",
        "      print(f'dob = {self.dd}/{self.mm}/{self.yy}')\n",
        "#create a outer class object\n",
        "p = person()\n",
        "p.display()\n",
        "#create inner class object\n",
        "x = p.db\n",
        "x.display()\n",
        "\n"
      ],
      "metadata": {
        "id": "UEStoc2YUkvu",
        "colab": {
          "base_uri": "https://localhost:8080/"
        },
        "outputId": "69403a95-d727-4dd7-c92f-7bfa0585192b"
      },
      "execution_count": null,
      "outputs": [
        {
          "output_type": "stream",
          "name": "stdout",
          "text": [
            "name =  charles\n",
            "dob = 10/12/2003\n"
          ]
        }
      ]
    },
    {
      "cell_type": "code",
      "source": [
        "# program to show student using latop specification\n",
        "class student:\n",
        "  def __init__(self,name,age):\n",
        "    self.name = name\n",
        "    self.age = age\n",
        "  def show(self):\n",
        "    print(f'Hi {self.name},\\nIm {self.age} years old')\n",
        "  class laptop:\n",
        "    def __init__(self):\n",
        "      self.name = 'hp,'\n",
        "      self.ram = '8gb'\n",
        "    def show(self):\n",
        "      print('details = ',self.name,self.ram)\n",
        "s1 = student('vinay',21)\n",
        "s1.show()\n",
        "lap1 = student.laptop() # creating a inner class object\n",
        "lap1.show()\n",
        "\n"
      ],
      "metadata": {
        "colab": {
          "base_uri": "https://localhost:8080/"
        },
        "id": "ehJ_tJfka6P_",
        "outputId": "4d476436-003a-4e0f-fe64-50f17537d0e0"
      },
      "execution_count": null,
      "outputs": [
        {
          "output_type": "stream",
          "name": "stdout",
          "text": [
            "Hi vinay,\n",
            "Im 21 years old\n",
            "details =  hp, 8gb\n"
          ]
        }
      ]
    },
    {
      "cell_type": "code",
      "source": [
        "#Inhertaince\n",
        "class A:\n",
        "  def feature1(self):\n",
        "    print('feature 1 is working')\n",
        "\n",
        "  def feature2(self):\n",
        "    print('feature 2 is working')\n",
        "class B(A):\n",
        "  def feature3(self):\n",
        "    print('feature 3 is working')\n",
        "\n",
        "  def feature4(self):\n",
        "    print('feature 4 is working')\n",
        "s = B()\n",
        "s.feature1()\n",
        "s.feature2()\n",
        "s.feature3()\n",
        "s.feature4()\n",
        "\n"
      ],
      "metadata": {
        "colab": {
          "base_uri": "https://localhost:8080/"
        },
        "id": "jxUDoFwUdcUn",
        "outputId": "fabfbb3d-d656-4323-ebb0-e4da3d9ce085"
      },
      "execution_count": null,
      "outputs": [
        {
          "output_type": "stream",
          "name": "stdout",
          "text": [
            "feature 1 is working\n",
            "feature 2 is working\n",
            "feature 3 is working\n",
            "feature 4 is working\n"
          ]
        }
      ]
    },
    {
      "cell_type": "code",
      "source": [
        "#constructor in inhertiance\n",
        "# A python program to acess the base class\n",
        "class father: #baseclass\n",
        "  def __init__(self):\n",
        "    self.property = 800000.00\n",
        "  def display(self):\n",
        "    print('Fathers property = ',self.property)\n",
        "class son(father):# subclass\n",
        "  pass # we do not want to write anything in the sub class\n",
        "s = son() # sub class object and display father's property\n",
        "s.display()"
      ],
      "metadata": {
        "colab": {
          "base_uri": "https://localhost:8080/"
        },
        "id": "yLmSyzoCpPGq",
        "outputId": "ba674e38-2612-424d-8407-2dad8fc32558"
      },
      "execution_count": null,
      "outputs": [
        {
          "output_type": "stream",
          "name": "stdout",
          "text": [
            "Fathers property =  800000.0\n"
          ]
        }
      ]
    },
    {
      "cell_type": "code",
      "source": [
        "#overriding Super class constructors and Methods\n",
        "#ovrriding the base class constructor and method in sub class\n",
        "class Father:\n",
        "  def __init__(self):\n",
        "    self.property = 800000.00\n",
        "  def display(self):\n",
        "    print('fathers property = ',self.property)\n",
        "class son(Father):\n",
        "  def __init__(self):\n",
        "    self.property = 200000.00\n",
        "  def display(self):\n",
        "    print('child\\'s property = ',self.property)\n",
        "s = son()\n",
        "s.display()"
      ],
      "metadata": {
        "colab": {
          "base_uri": "https://localhost:8080/"
        },
        "id": "4OJPvyfFsiW3",
        "outputId": "363e47a7-ef22-4a36-afee-49518bab2684"
      },
      "execution_count": null,
      "outputs": [
        {
          "output_type": "stream",
          "name": "stdout",
          "text": [
            "child's property =  200000.0\n"
          ]
        }
      ]
    },
    {
      "cell_type": "code",
      "source": [
        "#Super() methods\n",
        "# a program to call the super class constructor in the sub class usning super()\n",
        "class Father:\n",
        "  def __init__(self,property):\n",
        "    self.property = property\n",
        "  def display(self):\n",
        "    print('fathers property = ',self.property)\n",
        "class son(Father):\n",
        "  def __init__(self,property1,property):\n",
        "   super().__init__(property)\n",
        "   self.property1 = property\n",
        "  def display(self):\n",
        "    print('total child\\'s property = ',self.property+self.property1)\n",
        "s = son(200000.00,800000.00)\n",
        "s.display()"
      ],
      "metadata": {
        "colab": {
          "base_uri": "https://localhost:8080/"
        },
        "id": "bJETSzah0Vdd",
        "outputId": "e13aee6a-1870-4817-fb29-d1f72d5fd9e9"
      },
      "execution_count": null,
      "outputs": [
        {
          "output_type": "stream",
          "name": "stdout",
          "text": [
            "total child's property =  1600000.0\n"
          ]
        }
      ]
    },
    {
      "cell_type": "code",
      "source": [
        "# a program to acess base class constructor and methods in the sub class\n",
        "class square:\n",
        "  def __init__(self,x):\n",
        "    self.x = x\n",
        "  def area(self):\n",
        "    print(\"area of sqaure = \",self.x*self.x)\n",
        "class rectangle(square):\n",
        "  def __init__(self, x ,y):\n",
        "    super().__init__(x)\n",
        "    self.y = y\n",
        "  def area(self):\n",
        "    super().area()\n",
        "    print(\"area of reactangle = \",self.x*self.y)\n",
        "a, b = 12,34\n",
        "r = rectangle(a,b)\n",
        "r.area()\n",
        "\n"
      ],
      "metadata": {
        "id": "cn2aTVcs2Rke",
        "outputId": "746b8ee5-f60d-457a-cd32-1d9303ac2e43",
        "colab": {
          "base_uri": "https://localhost:8080/"
        }
      },
      "execution_count": null,
      "outputs": [
        {
          "output_type": "stream",
          "name": "stdout",
          "text": [
            "area of sqaure =  144\n",
            "area of reactangle =  408\n"
          ]
        }
      ]
    },
    {
      "cell_type": "code",
      "source": [
        "# Types of Inheritance\n",
        "# a program showing single inhertance in which two sub classes are derived from base class\n",
        "class bank(object):\n",
        " cash = 1000000\n",
        " @classmethod\n",
        " def available_cash(cls):\n",
        "  print(cls.cash)\n",
        "class andrabank(bank):\n",
        "  pass\n",
        "class statebank(andrabank):\n",
        "  cash = 20000000\n",
        "  def avilable_cash(cls):\n",
        "   print(cls.cash + bank.cash)\n",
        "a = andrabank()\n",
        "a.available_cash()\n",
        "\n",
        "s = statebank()\n",
        "s.available_cash()\n",
        "\n",
        "\n"
      ],
      "metadata": {
        "id": "LDAMAPKg4YEs",
        "outputId": "a69be044-ba27-4362-adbb-a2363fa26692",
        "colab": {
          "base_uri": "https://localhost:8080/"
        }
      },
      "execution_count": null,
      "outputs": [
        {
          "output_type": "stream",
          "name": "stdout",
          "text": [
            "1000000\n",
            "20000000\n"
          ]
        }
      ]
    },
    {
      "cell_type": "code",
      "source": [
        "class A:\n",
        "  def feature1(self):\n",
        "    print('feature 1 is working')\n",
        "\n",
        "  def feature2(self):\n",
        "    print('feature 2 is working')\n",
        "class B(A):\n",
        "  def feature3(self):\n",
        "    print('feature 3 is working')\n",
        "\n",
        "  def feature4(self):\n",
        "    print('feature 4 is working')\n",
        "class C(B):\n",
        "  def feature5(self):\n",
        "    print('feature 5 is working')\n",
        "c1 = C()\n",
        "c1.feature1()\n",
        "\n",
        "\n"
      ],
      "metadata": {
        "id": "4oA_55BpGP9z",
        "outputId": "111116d3-529f-4ac0-c1bc-e87c5cb31a06",
        "colab": {
          "base_uri": "https://localhost:8080/"
        }
      },
      "execution_count": null,
      "outputs": [
        {
          "output_type": "stream",
          "name": "stdout",
          "text": [
            "feature 1 is working\n"
          ]
        }
      ]
    },
    {
      "cell_type": "code",
      "source": [
        "#multiple inhertiance\n",
        "#example\n",
        "class A:\n",
        "  def feature1(self):\n",
        "    print('feature 1 is working')\n",
        "\n",
        "  def feature2(self):\n",
        "    print('feature 2 is working')\n",
        "class B:\n",
        "  def feature3(self):\n",
        "    print('feature 3 is working')\n",
        "\n",
        "  def feature4(self):\n",
        "    print('feature 4 is working')\n",
        "class C(A,B): # multiple inhertiance\n",
        "  def feature5(self):\n",
        "    print('feature 5 is working')\n",
        "c1 = C()\n",
        "c1.feature1()\n",
        "c1.feature2()\n",
        "b1 = B()\n",
        "b1.feature3()\n",
        "b1.feature4()\n",
        "\n"
      ],
      "metadata": {
        "id": "CqNwGnonLKv4",
        "colab": {
          "base_uri": "https://localhost:8080/"
        },
        "outputId": "f082300e-4760-435a-91b8-a1b0866c94e2"
      },
      "execution_count": null,
      "outputs": [
        {
          "output_type": "stream",
          "name": "stdout",
          "text": [
            "feature 1 is working\n",
            "feature 2 is working\n",
            "feature 3 is working\n",
            "feature 4 is working\n"
          ]
        }
      ]
    },
    {
      "cell_type": "code",
      "source": [
        "class father:\n",
        "  def height(self):\n",
        "    print('height is 6.0 feet')\n",
        "class mother:\n",
        "  def color(self):\n",
        "    print('color is brown')\n",
        "class child(father,mother):\n",
        "  pass\n",
        "c1 = child()\n",
        "c1.height()\n",
        "c1.color()"
      ],
      "metadata": {
        "colab": {
          "base_uri": "https://localhost:8080/"
        },
        "id": "Cs2zMF5D-BxM",
        "outputId": "81b3e503-91d4-4743-f26f-8298302512fb"
      },
      "execution_count": null,
      "outputs": [
        {
          "output_type": "stream",
          "name": "stdout",
          "text": [
            "height is 6.0 feet\n",
            "color is brown\n"
          ]
        }
      ]
    },
    {
      "cell_type": "code",
      "source": [
        "# a program to acess all the instance varibale of the both base classses\n",
        "class A:\n",
        "  def __init__(self):\n",
        "    self.a = 'a'\n",
        "    print(self.a)\n",
        "    super().__init__()\n",
        "class B:\n",
        "  def __init__(self):\n",
        "    self.b = \"b\"\n",
        "    print(self.b)\n",
        "    super().__init__()\n",
        "class C(A,B):\n",
        "  def __init__(self):\n",
        "    self.c = 'c'\n",
        "    print(self.c)\n",
        "    super().__init__()\n",
        "o = C()\n"
      ],
      "metadata": {
        "colab": {
          "base_uri": "https://localhost:8080/"
        },
        "id": "_efNnir6-yZW",
        "outputId": "c3ea41cd-e5fc-4914-fa82-d54fbf8cc76d"
      },
      "execution_count": null,
      "outputs": [
        {
          "output_type": "stream",
          "name": "stdout",
          "text": [
            "c\n",
            "a\n",
            "b\n"
          ]
        }
      ]
    },
    {
      "cell_type": "code",
      "source": [
        "#method order resolution\n",
        "#multiple inhertiance with sereval clases\n",
        "class A:\n",
        "  def method(self):\n",
        "    print('a class method')\n",
        "    super().method()\n",
        "class B:\n",
        "  def method(self):\n",
        "    print('b class method')\n",
        "    super().method()\n",
        "class C:\n",
        "  def method(self):\n",
        "    print('c class method')\n",
        "\n",
        "class X(A,C):\n",
        "  def method(self):\n",
        "    print('X class method')\n",
        "    super().method()\n",
        "class Y(B,C):\n",
        "  def method(self):\n",
        "    print('Y class method')\n",
        "    super().method()\n",
        "class P(X,Y,C):\n",
        "  def method(self):\n",
        "    print('P class method')\n",
        "    super().method()\n",
        "p = P()\n",
        "p.method()\n",
        "\n",
        "\n"
      ],
      "metadata": {
        "colab": {
          "base_uri": "https://localhost:8080/"
        },
        "id": "7eDnhRhWC6uI",
        "outputId": "5438ccac-96e8-4c3a-937e-01d527dca4a7"
      },
      "execution_count": null,
      "outputs": [
        {
          "output_type": "stream",
          "name": "stdout",
          "text": [
            "P class method\n",
            "X class method\n",
            "a class method\n",
            "Y class method\n",
            "b class method\n",
            "c class method\n"
          ]
        }
      ]
    },
    {
      "cell_type": "code",
      "source": [
        "#polymorphism\n",
        "\"\"\" 1. duck typing \"\"\"\n",
        "# a program to invoke a method on an object without knowing the class of the objct\n",
        "#duck typing\n",
        "\n",
        "class duck:\n",
        "  def talk(self):\n",
        "    print('Quack, quack!')\n",
        "\n",
        "class human:\n",
        "  def talk(self):\n",
        "    print('hi, hello')\n",
        "\n",
        "def call_talk(get):\n",
        "  get.talk()\n",
        "\n",
        "x = duck()\n",
        "call_talk(x)\n",
        "x = human()\n",
        "call_talk(x)"
      ],
      "metadata": {
        "colab": {
          "base_uri": "https://localhost:8080/"
        },
        "id": "WHQdovs_FfDa",
        "outputId": "10a0cea6-92f3-4069-9c66-f290c16f3967"
      },
      "execution_count": null,
      "outputs": [
        {
          "output_type": "stream",
          "name": "stdout",
          "text": [
            "Quack, quack!\n",
            "hi, hello\n"
          ]
        }
      ]
    },
    {
      "cell_type": "code",
      "source": [
        "class pycharm:\n",
        "  def excute(self):\n",
        "    print('compling running')\n",
        "class myeditor:\n",
        "  def excute(self):\n",
        "    print('complie')\n",
        "    print('running')\n",
        "    print('error detection')\n",
        "class laptop:\n",
        "  def code(self,ide):\n",
        "    ide.excute()\n",
        "\n",
        "ide = pycharm()\n",
        "ide1 = myeditor()\n",
        "lap1 = laptop()\n",
        "lap2 = laptop()\n",
        "lap1.code(ide)\n",
        "lap2.code(ide1)\n"
      ],
      "metadata": {
        "id": "bCxUU0pTd2KS",
        "outputId": "7f5a8a52-fc5d-4941-ee1c-03841801dc43",
        "colab": {
          "base_uri": "https://localhost:8080/"
        }
      },
      "execution_count": null,
      "outputs": [
        {
          "output_type": "stream",
          "name": "stdout",
          "text": [
            "compling running\n",
            "complie\n",
            "running\n",
            "error detection\n"
          ]
        }
      ]
    },
    {
      "cell_type": "code",
      "source": [
        "#operator overloading\n",
        "#using + opertor on objects\n",
        "class bookx:\n",
        "  def __init__(self,pages):\n",
        "    self.pages = pages\n",
        "class booky:\n",
        "  def __init__(self,pages):\n",
        "    self.pages = pages\n",
        "b1 = bookx(100)\n",
        "b2 = booky(150)\n",
        "b3 = b1 + b2\n",
        "print(b3)\n"
      ],
      "metadata": {
        "id": "QaP3FO3Veh1D",
        "outputId": "8a6856b9-51cf-4ea7-aeed-c35c890a9584",
        "colab": {
          "base_uri": "https://localhost:8080/",
          "height": 193
        }
      },
      "execution_count": null,
      "outputs": [
        {
          "output_type": "error",
          "ename": "TypeError",
          "evalue": "unsupported operand type(s) for +: 'bookx' and 'booky'",
          "traceback": [
            "\u001b[0;31m---------------------------------------------------------------------------\u001b[0m",
            "\u001b[0;31mTypeError\u001b[0m                                 Traceback (most recent call last)",
            "\u001b[0;32m<ipython-input-2-f3303343a317>\u001b[0m in \u001b[0;36m<cell line: 11>\u001b[0;34m()\u001b[0m\n\u001b[1;32m      9\u001b[0m \u001b[0mb1\u001b[0m \u001b[0;34m=\u001b[0m \u001b[0mbookx\u001b[0m\u001b[0;34m(\u001b[0m\u001b[0;36m100\u001b[0m\u001b[0;34m)\u001b[0m\u001b[0;34m\u001b[0m\u001b[0;34m\u001b[0m\u001b[0m\n\u001b[1;32m     10\u001b[0m \u001b[0mb2\u001b[0m \u001b[0;34m=\u001b[0m \u001b[0mbooky\u001b[0m\u001b[0;34m(\u001b[0m\u001b[0;36m150\u001b[0m\u001b[0;34m)\u001b[0m\u001b[0;34m\u001b[0m\u001b[0;34m\u001b[0m\u001b[0m\n\u001b[0;32m---> 11\u001b[0;31m \u001b[0mb3\u001b[0m \u001b[0;34m=\u001b[0m \u001b[0mb1\u001b[0m \u001b[0;34m+\u001b[0m \u001b[0mb2\u001b[0m\u001b[0;34m\u001b[0m\u001b[0;34m\u001b[0m\u001b[0m\n\u001b[0m\u001b[1;32m     12\u001b[0m \u001b[0mprint\u001b[0m\u001b[0;34m(\u001b[0m\u001b[0mb3\u001b[0m\u001b[0;34m)\u001b[0m\u001b[0;34m\u001b[0m\u001b[0;34m\u001b[0m\u001b[0m\n",
            "\u001b[0;31mTypeError\u001b[0m: unsupported operand type(s) for +: 'bookx' and 'booky'"
          ]
        }
      ]
    },
    {
      "cell_type": "code",
      "source": [
        "# a program to overload the addition operator(+) to make it acts on the class object..\n",
        "class bookx:\n",
        "  def __init__(self,pages):\n",
        "    self.pages = pages\n",
        "\n",
        "  def __add__(self,other):\n",
        "    return self.pages + other.pages\n",
        "class booky:\n",
        "  def __init__(self,pages):\n",
        "    self.pages = pages\n",
        "\n",
        "b1 = bookx(100)\n",
        "b2 = booky(150)\n",
        "print(b1+b2)"
      ],
      "metadata": {
        "id": "LX52AObOobFW",
        "outputId": "ec3bcdf1-3c06-4104-c416-3b3e9eade0e5",
        "colab": {
          "base_uri": "https://localhost:8080/"
        }
      },
      "execution_count": null,
      "outputs": [
        {
          "output_type": "stream",
          "name": "stdout",
          "text": [
            "250\n"
          ]
        }
      ]
    },
    {
      "cell_type": "code",
      "source": [
        "# add to objects\n",
        "class student:\n",
        "  def __init__(self,m1,m2):\n",
        "    self.m1 = m1\n",
        "    self.m2 = m2\n",
        "\n",
        "  def __add__(self,other):\n",
        "    m1 = self.m1 + other.m1\n",
        "    m2 = self.m2 + other.m2\n",
        "    s3 = student(m1,m2)\n",
        "    return s3\n",
        "s1 = student(12,34)\n",
        "s2 = student(23,45)\n",
        "s3 = s1 + s2\n",
        "print(s3.m1)\n",
        "print(s3.m2)"
      ],
      "metadata": {
        "id": "dzmNrpXHp-JX",
        "outputId": "10f3ec27-f68a-4ea5-ffd1-f0121b48c171",
        "colab": {
          "base_uri": "https://localhost:8080/"
        }
      },
      "execution_count": null,
      "outputs": [
        {
          "output_type": "stream",
          "name": "stdout",
          "text": [
            "35\n",
            "79\n"
          ]
        }
      ]
    },
    {
      "cell_type": "code",
      "source": [
        "# a python program to overload greater than (>)\n",
        "class ramayan:\n",
        "  def __init__(self,pages):\n",
        "    self.pages = pages\n",
        "  def __gt__(self,other):\n",
        "    return self.pages > other.pages\n",
        "class mahabharat:\n",
        "  def __init__(self,pages):\n",
        "    self.pages = pages\n",
        "R1 = ramayan(120)\n",
        "M1 = mahabharat(200)\n",
        "if(R1>M1):\n",
        "  print('ramayan has more pages')\n",
        "else:\n",
        "  print('mahabharat has more pages')"
      ],
      "metadata": {
        "id": "Rlhg4RMts1oY",
        "outputId": "7288bce9-3cdb-401b-8592-3d7835a660e2",
        "colab": {
          "base_uri": "https://localhost:8080/"
        }
      },
      "execution_count": null,
      "outputs": [
        {
          "output_type": "stream",
          "name": "stdout",
          "text": [
            "mahabharat has more pages\n"
          ]
        }
      ]
    },
    {
      "cell_type": "code",
      "source": [
        "#USING (#) OPERATOR\n",
        "class student:\n",
        "  def __init__(self,m1,m2):\n",
        "    self.m1 = m1\n",
        "    self.m2 = m2\n",
        "  def __mul__(self,other):\n",
        "    m1 =  self.m1 * other.m1\n",
        "    m2 =  self.m2 * other.m2\n",
        "    s3 = student(m1,m2)\n",
        "    return s3\n",
        "s1 = student(12,34)\n",
        "s2 = student(23,45)\n",
        "s3 = s1 * s2\n",
        "print(s3.m1)\n",
        "print(s3.m2)\n",
        "\n"
      ],
      "metadata": {
        "id": "eXM2gFaBug75",
        "outputId": "8ba6008f-afb3-4309-8ec2-fe7043297b11",
        "colab": {
          "base_uri": "https://localhost:8080/"
        }
      },
      "execution_count": null,
      "outputs": [
        {
          "output_type": "stream",
          "name": "stdout",
          "text": [
            "276\n",
            "1530\n"
          ]
        }
      ]
    },
    {
      "cell_type": "code",
      "source": [
        "#vector problem\n",
        "class vector:\n",
        "  def __init__(self,i,j,k):\n",
        "    self.i = i\n",
        "    self.j = j\n",
        "    self.k = k\n",
        "  def __str__(self):\n",
        "    return f'{self.i}i + {self.j}j + {self.k}k'\n",
        "  def __add__(self,other):\n",
        "    return vector(self.i + other.i , self.j+other.j , self.k + other.k)\n",
        "v1 = vector(12,23,34)\n",
        "print(v)\n",
        "v2 = vector(23,34,45)\n",
        "print( v2)\n",
        "print('vector addition = ',v1+v2)\n",
        "print(type(v1+v2))\n"
      ],
      "metadata": {
        "id": "lVqcZ1fIuoOk",
        "colab": {
          "base_uri": "https://localhost:8080/"
        },
        "outputId": "db3251d0-61e1-43f3-a156-34f898efdf7b"
      },
      "execution_count": null,
      "outputs": [
        {
          "output_type": "stream",
          "name": "stdout",
          "text": [
            "12i + 23j + 34k\n",
            "23i + 34j + 45k\n",
            "vector addition =  35i + 57j + 79k\n",
            "<class '__main__.vector'>\n"
          ]
        }
      ]
    },
    {
      "cell_type": "code",
      "source": [
        "# method overloading\n",
        "# add  numbers\n",
        "class myclass:\n",
        "  def sum(self,a = None,b = None,c = None):\n",
        "    if a!=None and b!=None and c!=None:\n",
        "       print('sum of three=', a+b+c)\n",
        "    elif a!=None and b!= None:\n",
        "       print('sum of two =',a+b)\n",
        "    else:\n",
        "       print('enter two or three argument')\n",
        "c = myclass()\n",
        "c.sum(10,15,20)\n",
        "c.sum(10.5,20.5)\n",
        "c.sum(100)\n"
      ],
      "metadata": {
        "colab": {
          "base_uri": "https://localhost:8080/"
        },
        "id": "QEUSe123SUSB",
        "outputId": "9cc5c0e8-9cb6-4252-97aa-5a7e199ce24e"
      },
      "execution_count": null,
      "outputs": [
        {
          "output_type": "stream",
          "name": "stdout",
          "text": [
            "sum of three= 45\n",
            "sum of two = 31.0\n",
            "enter two or three argument\n"
          ]
        }
      ]
    },
    {
      "cell_type": "code",
      "source": [
        "#method overiding\n",
        "class Sqaure:\n",
        "  def area(self,x):\n",
        "    print('area of square:',x*x)\n",
        "class circle(Sqaure):\n",
        "  def area(self,x):\n",
        "    print('circle area =',3.14*x**2)\n",
        "ar = circle()\n",
        "ar.area(12)"
      ],
      "metadata": {
        "colab": {
          "base_uri": "https://localhost:8080/"
        },
        "id": "YCMMdm8mTP4y",
        "outputId": "0a2f4761-5168-4fec-df6b-5db63bf406e3"
      },
      "execution_count": null,
      "outputs": [
        {
          "output_type": "stream",
          "name": "stdout",
          "text": [
            "circle area = 452.16\n"
          ]
        }
      ]
    },
    {
      "cell_type": "code",
      "source": [
        "#abtract class and interfaces\n",
        "# a program  to show abtract class and sub class\n",
        "from abc import ABC , abstractmethod\n",
        "class Myclass(ABC):\n",
        "  @abstractmethod\n",
        "  def calculate(self,x):\n",
        "   pass\n",
        "# this is sub class\n",
        "class sub1(Myclass):\n",
        "  def calculate(self,x):\n",
        "    print('square value = ',x*x)\n",
        "#this is second sub class\n",
        "import math\n",
        "class sub2(Myclass):\n",
        "  def calculate(self,x):\n",
        "    print(\"sqaure root = \",math.sqrt(x))\n",
        "obj1 = sub1()\n",
        "obj1.calculate(12)\n",
        "obj2 = sub2()\n",
        "obj1.calculate(36)"
      ],
      "metadata": {
        "colab": {
          "base_uri": "https://localhost:8080/"
        },
        "id": "15pel7CDafqE",
        "outputId": "0202bd61-7595-4970-e9c5-53fbab8c64b9"
      },
      "execution_count": null,
      "outputs": [
        {
          "output_type": "stream",
          "name": "stdout",
          "text": [
            "square value =  144\n",
            "square value =  1296\n"
          ]
        }
      ]
    },
    {
      "cell_type": "code",
      "source": [
        "#iterator\n",
        "data = [23,45,56,67,78]\n",
        "i = iter(data)\n",
        "print(next(i))\n",
        "#or\n",
        "print(i.__next__())\n"
      ],
      "metadata": {
        "colab": {
          "base_uri": "https://localhost:8080/"
        },
        "id": "2RecrwzXjG-O",
        "outputId": "8a25b60a-45c1-4f30-fc1d-14ce1ab4e322"
      },
      "execution_count": null,
      "outputs": [
        {
          "output_type": "stream",
          "name": "stdout",
          "text": [
            "23\n",
            "45\n"
          ]
        }
      ]
    },
    {
      "cell_type": "code",
      "source": [
        "#iterator define in a class\n",
        "# print topten element\n",
        "class topten:\n",
        "  def __init__(self):\n",
        "     self.num = 1\n",
        "  def __iter__(self):\n",
        "    return self\n",
        "  def __next__(self):\n",
        "    if self.num <= 10:\n",
        "     val = self.num\n",
        "     self.num+=1\n",
        "     return val\n",
        "    else:\n",
        "     raise StopIteration\n",
        "values = topten()\n",
        "for i in values:\n",
        "  print(i)\n",
        "\n"
      ],
      "metadata": {
        "colab": {
          "base_uri": "https://localhost:8080/"
        },
        "id": "qs72oLlC1zu6",
        "outputId": "906f8e30-20ca-42bc-a64e-76185ad6d676"
      },
      "execution_count": null,
      "outputs": [
        {
          "output_type": "stream",
          "name": "stdout",
          "text": [
            "1\n",
            "2\n",
            "3\n",
            "4\n",
            "5\n",
            "6\n",
            "7\n",
            "8\n",
            "9\n",
            "10\n"
          ]
        }
      ]
    },
    {
      "cell_type": "code",
      "source": [],
      "metadata": {
        "id": "XdfWXgEu5AwF"
      },
      "execution_count": null,
      "outputs": []
    }
  ]
}